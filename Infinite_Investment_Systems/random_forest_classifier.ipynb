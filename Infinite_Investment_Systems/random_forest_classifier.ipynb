{
 "cells": [
  {
   "cell_type": "code",
   "execution_count": 1,
   "metadata": {},
   "outputs": [
    {
     "name": "stderr",
     "output_type": "stream",
     "text": [
      "C:\\Users\\jonat\\AppData\\Local\\Temp\\ipykernel_19596\\1297048602.py:2: DeprecationWarning: \n",
      "Pyarrow will become a required dependency of pandas in the next major release of pandas (pandas 3.0),\n",
      "(to allow more performant data types, such as the Arrow string type, and better interoperability with other libraries)\n",
      "but was not found to be installed on your system.\n",
      "If this would cause problems for you,\n",
      "please provide us feedback at https://github.com/pandas-dev/pandas/issues/54466\n",
      "        \n",
      "  import pandas as pd\n"
     ]
    }
   ],
   "source": [
    "import hyperopt as hp\n",
    "import pandas as pd\n",
    "import numpy as np\n",
    "import matplotlib.pyplot as plt\n",
    "import matplotlib.dates as mdates\n",
    "import seaborn as sns\n",
    "from sklearn.preprocessing import StandardScaler\n",
    "import pathlib \n",
    "import os\n",
    "\n",
    "from statistics import mean\n",
    "from sklearn.model_selection import train_test_split\n",
    "from sklearn.model_selection import StratifiedKFold\n",
    "from sklearn.model_selection import cross_val_score\n",
    "from sklearn.metrics import f1_score \n",
    "from sklearn.ensemble import RandomForestClassifier\n",
    "from sklearn.metrics import accuracy_score, classification_report\n",
    "from hyperopt import Trials, hp, fmin, tpe, STATUS_OK, space_eval \n",
    "\n",
    "import joblib\n"
   ]
  },
  {
   "cell_type": "code",
   "execution_count": 2,
   "metadata": {},
   "outputs": [],
   "source": [
    "cur_path  = os.getcwd()\n",
    "\n",
    "df = pd.read_csv(cur_path + '/processed.csv')\n",
    "pd.set_option('display.min_rows', 150)\n"
   ]
  },
  {
   "cell_type": "code",
   "execution_count": 3,
   "metadata": {},
   "outputs": [],
   "source": [
    "df['label'] = df['label'].eq('Churn').mul(1)\n",
    "\n",
    "X = df.drop(\"label\", axis = 1)\n",
    "y = df[\"label\"]\n",
    "\n",
    "X_train, X_test, y_train, y_test = train_test_split(X, y, test_size=0.2, random_state=42)\n",
    "\n",
    "# space = {\n",
    "#     'n_estimators': hp.choice('n_estimators', range(50, 500)),\n",
    "#     'max_depth': hp.choice('max_depth', [1, 5, 10, 20, 50, 75, 100, 150, 200]),\n",
    "#     'min_samples_split': hp.choice('min_samples_split', [2, 3, 4, 5, 10, 20]),\n",
    "#     'min_samples_leaf': hp.choice('min_samples_leaf', [1, 2, 3, 4, 5]),\n",
    "#     'bootstrap': hp.choice('bootstrap', [True, False]),\n",
    "#     'criterion': hp.choice('criterion', ['gini', 'entropy']),\n",
    "#     'max_features': hp.choice('max_features', ['sqrt', 'log2', None])\n",
    "# }\n",
    "\n",
    "# kfold = StratifiedKFold(n_splits = 5, shuffle = True, random_state = 0)\n",
    "\n",
    "# def objective(params):\n",
    "#     params['max_depth'] = int(params['max_depth'])\n",
    "#     clf = RandomForestClassifier(**params)\n",
    "#     print(params)\n",
    "#     scores = cross_val_score(clf, X_train, y_train, cv = kfold, scoring = 'f1', n_jobs = -1)\n",
    "#     print(scores)\n",
    "#     best_score = mean(scores) \n",
    "#     loss = -best_score\n",
    "#     return {'loss': loss, 'params': params, 'status': STATUS_OK}\n",
    "\n",
    "# num_trials = Trials()\n",
    "# best = fmin(fn = objective, space = space, algo = tpe.suggest, max_evals = 40, trials = num_trials)\n",
    "\n",
    "randomForest = RandomForestClassifier(bootstrap= False, criterion= 'gini', max_depth = 75, max_features = 'sqrt', min_samples_leaf = 3, min_samples_split = 10, n_estimators = 159)\n",
    "randomForest.fit(X_train, y_train)\n",
    "\n",
    "y_pred = randomForest.predict(X_test)\n"
   ]
  },
  {
   "cell_type": "code",
   "execution_count": null,
   "metadata": {},
   "outputs": [
    {
     "name": "stdout",
     "output_type": "stream",
     "text": [
      "Accuracy 0.951369293373333\n",
      "F1 Score 0.9694512988678928\n",
      "Classification Report:\n",
      "               precision    recall  f1-score   support\n",
      "\n",
      "           0       0.87      0.89      0.88     27180\n",
      "           1       0.97      0.97      0.97    107488\n",
      "\n",
      "    accuracy                           0.95    134668\n",
      "   macro avg       0.92      0.93      0.93    134668\n",
      "weighted avg       0.95      0.95      0.95    134668\n",
      "\n"
     ]
    }
   ],
   "source": [
    "accuracy = accuracy_score(y_test, y_pred)\n",
    "f1_score = f1_score(y_test, y_pred)\n",
    "\n",
    "print('Accuracy', accuracy)\n",
    "print('F1 Score', f1_score)\n",
    "print('Classification Report:\\n', classification_report(y_test, y_pred))"
   ]
  },
  {
   "cell_type": "code",
   "execution_count": null,
   "metadata": {},
   "outputs": [],
   "source": [
    "joblib.dump(randomForest, 'randomForest.pkl')"
   ]
  }
 ],
 "metadata": {
  "kernelspec": {
   "display_name": "Python 3",
   "language": "python",
   "name": "python3"
  },
  "language_info": {
   "codemirror_mode": {
    "name": "ipython",
    "version": 3
   },
   "file_extension": ".py",
   "mimetype": "text/x-python",
   "name": "python",
   "nbconvert_exporter": "python",
   "pygments_lexer": "ipython3",
   "version": "3.12.2"
  }
 },
 "nbformat": 4,
 "nbformat_minor": 2
}
