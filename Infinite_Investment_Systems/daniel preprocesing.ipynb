{
 "cells": [
  {
   "cell_type": "code",
   "execution_count": 79,
   "metadata": {},
   "outputs": [
    {
     "name": "stdout",
     "output_type": "stream",
     "text": [
      "Requirement already satisfied: pandas in /Library/Frameworks/Python.framework/Versions/3.12/lib/python3.12/site-packages (2.2.0)\n",
      "Requirement already satisfied: numpy<2,>=1.26.0 in /Library/Frameworks/Python.framework/Versions/3.12/lib/python3.12/site-packages (from pandas) (1.26.4)\n",
      "Requirement already satisfied: python-dateutil>=2.8.2 in /Users/Hanqi/Library/Python/3.12/lib/python/site-packages (from pandas) (2.8.2)\n",
      "Requirement already satisfied: pytz>=2020.1 in /Library/Frameworks/Python.framework/Versions/3.12/lib/python3.12/site-packages (from pandas) (2024.1)\n",
      "Requirement already satisfied: tzdata>=2022.7 in /Library/Frameworks/Python.framework/Versions/3.12/lib/python3.12/site-packages (from pandas) (2023.4)\n",
      "Requirement already satisfied: six>=1.5 in /Users/Hanqi/Library/Python/3.12/lib/python/site-packages (from python-dateutil>=2.8.2->pandas) (1.16.0)\n",
      "Note: you may need to restart the kernel to use updated packages.\n"
     ]
    },
    {
     "name": "stderr",
     "output_type": "stream",
     "text": [
      "/var/folders/sv/b643fd993ml6d9g_v9klf5mh0000gn/T/ipykernel_15419/138701694.py:14: DtypeWarning: Columns (87) have mixed types. Specify dtype option on import or set low_memory=False.\n",
      "  history_df = pd.read_csv(cur_path + '/history.csv')\n"
     ]
    }
   ],
   "source": [
    "%pip install pandas\n",
    "\n",
    "import pandas as pd\n",
    "import numpy as np\n",
    "import matplotlib.pyplot as plt\n",
    "import matplotlib.dates as mdates\n",
    "import seaborn as sns\n",
    "from sklearn.preprocessing import StandardScaler\n",
    "import pathlib \n",
    "import os\n",
    "cur_path  = os.getcwd()\n",
    "\n",
    "data_df = pd.read_csv(cur_path + '/account_data_info.csv')\n",
    "history_df = pd.read_csv(cur_path + '/history.csv')\n",
    "pd.set_option('display.min_rows', 150)\n",
    "\n",
    "\n",
    "\n"
   ]
  },
  {
   "cell_type": "code",
   "execution_count": 80,
   "metadata": {},
   "outputs": [],
   "source": [
    "# deleting rows of account_data_info that dont appear in columns of history\n",
    "filtered_data_df = data_df[data_df['Columns'].isin(history_df.columns)]"
   ]
  },
  {
   "cell_type": "code",
   "execution_count": 81,
   "metadata": {},
   "outputs": [
    {
     "name": "stdout",
     "output_type": "stream",
     "text": [
      "(111, 3)\n",
      "(107, 3)\n",
      "(673339, 106)\n"
     ]
    }
   ],
   "source": [
    "print(data_df.shape)\n",
    "print(filtered_data_df.shape)\n",
    "print(history_df.shape)"
   ]
  },
  {
   "cell_type": "code",
   "execution_count": 82,
   "metadata": {},
   "outputs": [
    {
     "name": "stdout",
     "output_type": "stream",
     "text": [
      "['credit_code', 'closing_date', 'closing_date', 'closure_reason']\n"
     ]
    }
   ],
   "source": [
    "# show which rows were deleted\n",
    "deleted_columns = data_df[~data_df['Columns'].isin(history_df.columns)]['Columns'].tolist()\n",
    "\n",
    "print(deleted_columns)"
   ]
  },
  {
   "cell_type": "code",
   "execution_count": 83,
   "metadata": {},
   "outputs": [
    {
     "name": "stdout",
     "output_type": "stream",
     "text": [
      "['country_code', 'cashflows_custody_fee', 'arp_pension_origin', 'sss_location', 'sss_type', 'sss_agent', 'esir_number', 'shareholder_language', 'special_tag', 'conjunction', 'function_code', 'tms_settlement_location', 'loan_limit_override', 'special_fee_code', 'resp_specimen_plan']\n",
      "15\n"
     ]
    }
   ],
   "source": [
    "# determine columns with more than 95 percent NaN value\n",
    "threshold_percent = 90\n",
    "\n",
    "threshold_count = (threshold_percent / 100) * len(history_df)\n",
    "\n",
    "missing_values_mask = history_df.isna()\n",
    "\n",
    "missing_values_count = missing_values_mask.sum()\n",
    "\n",
    "columns_with_more_than_x_missing = missing_values_count[missing_values_count > threshold_count].index.tolist()\n",
    "\n",
    "print(columns_with_more_than_x_missing)\n",
    "print(len(columns_with_more_than_x_missing))"
   ]
  },
  {
   "cell_type": "markdown",
   "metadata": {},
   "source": []
  },
  {
   "cell_type": "code",
   "execution_count": 84,
   "metadata": {},
   "outputs": [
    {
     "name": "stdout",
     "output_type": "stream",
     "text": [
      "Column: country_code\n",
      "Percentage Churn: 79.84261265974143\n",
      "Percentage No Churn: 20.157387340258577\n",
      " \n",
      "Column: cashflows_custody_fee\n",
      "Percentage Churn: 79.96625770971234\n",
      "Percentage No Churn: 20.033742290287655\n",
      " \n",
      "Column: arp_pension_origin\n",
      "Percentage Churn: 81.2465130981074\n",
      "Percentage No Churn: 18.753486901892607\n",
      " \n",
      "Column: sss_location\n",
      "Percentage Churn: 79.8139341392097\n",
      "Percentage No Churn: 20.186065860790293\n",
      " \n",
      "Column: sss_type\n",
      "Percentage Churn: 79.8139341392097\n",
      "Percentage No Churn: 20.186065860790293\n",
      " \n",
      "Column: sss_agent\n",
      "Percentage Churn: 79.81438723395978\n",
      "Percentage No Churn: 20.185612766040226\n",
      " \n",
      "Column: esir_number\n",
      "Percentage Churn: 79.96590066936274\n",
      "Percentage No Churn: 20.034099330637268\n",
      " \n",
      "Column: shareholder_language\n",
      "Percentage Churn: 80.58965221937474\n",
      "Percentage No Churn: 19.410347780625255\n",
      " \n",
      "Column: special_tag\n",
      "Percentage Churn: 79.16762375100494\n",
      "Percentage No Churn: 20.83237624899506\n",
      " \n",
      "Column: conjunction\n",
      "Percentage Churn: 80.16084731361273\n",
      "Percentage No Churn: 19.83915268638726\n",
      " \n",
      "Column: function_code\n",
      "Percentage Churn: 79.83999450009117\n",
      "Percentage No Churn: 20.160005499908834\n",
      " \n",
      "Column: tms_settlement_location\n",
      "Percentage Churn: 79.73301882540302\n",
      "Percentage No Churn: 20.266981174596975\n",
      " \n",
      "Column: loan_limit_override\n",
      "Percentage Churn: 79.00447528316988\n",
      "Percentage No Churn: 20.995524716830115\n",
      " \n",
      "Column: special_fee_code\n",
      "Percentage Churn: 79.96869017082274\n",
      "Percentage No Churn: 20.031309829177253\n",
      " \n",
      "Column: resp_specimen_plan\n",
      "Percentage Churn: 80.65992640843014\n",
      "Percentage No Churn: 19.340073591569862\n",
      " \n"
     ]
    }
   ],
   "source": [
    "# checking whether column with >90% NaN important or not\n",
    "\"\"\"\n",
    "NaN_column = 'resp_specimen_plan'   #replace with >90% Column\n",
    "\n",
    "df_with_nan_values = history_df[history_df[NaN_column].isna()]\n",
    "\n",
    "percentage_churn = (df_with_nan_values['label'] == 'Churn').mean() * 100\n",
    "percentage_no_churn = (df_with_nan_values['label'] == 'No Churn').mean() * 100\n",
    "\n",
    "print(\"CHURN PERCENTAGE\", percentage_churn)\n",
    "print(\"NO CHURN PERCENTAGE\", percentage_no_churn)\n",
    "\n",
    "\"\"\"\n",
    "\n",
    "## trying to create table for all\n",
    "\n",
    "label_col = 'label'\n",
    "\n",
    "for i in columns_with_more_than_x_missing:\n",
    "    df_with_nan_values = history_df[history_df[i].isna()]\n",
    "    percentage_churn = (df_with_nan_values[label_col] == 'Churn').mean() * 100\n",
    "    percentage_no_churn = (df_with_nan_values[label_col] == 'No Churn').mean() * 100\n",
    "\n",
    "    print('Column:', i)\n",
    "    print(\"Percentage Churn:\", percentage_churn)\n",
    "    print(\"Percentage No Churn:\", percentage_no_churn)\n",
    "    print(\" \")\n",
    "\n",
    "\n",
    "\n"
   ]
  },
  {
   "cell_type": "code",
   "execution_count": 85,
   "metadata": {},
   "outputs": [
    {
     "name": "stdout",
     "output_type": "stream",
     "text": [
      "Total Chrun No Churn Percentage:\n",
      "Percentage Churn: 79.96625770971234\n",
      "Percentage No Churn: 20.033742290287655\n"
     ]
    }
   ],
   "source": [
    "# Total churn no churn percentage\n",
    "\n",
    "percentage_churn = (history_df['label'] == 'Churn').mean() * 100\n",
    "percentage_no_churn = (history_df['label'] == 'No Churn').mean() * 100\n",
    "print(\"Total Chrun No Churn Percentage:\")\n",
    "print(\"Percentage Churn:\", percentage_churn)\n",
    "print(\"Percentage No Churn:\", percentage_no_churn)\n",
    "\n"
   ]
  },
  {
   "cell_type": "code",
   "execution_count": 86,
   "metadata": {},
   "outputs": [],
   "source": [
    "# Create column bool: sss\n",
    "    # SSS true if any of the sss are not NaN\n",
    "    # else false\n",
    "\n",
    "history_df['sss'] = history_df[['sss_location', 'sss_type', 'sss_agent']].notna().any(axis = 1)\n"
   ]
  },
  {
   "cell_type": "code",
   "execution_count": null,
   "metadata": {},
   "outputs": [],
   "source": []
  }
 ],
 "metadata": {
  "kernelspec": {
   "display_name": "Python 3",
   "language": "python",
   "name": "python3"
  },
  "language_info": {
   "codemirror_mode": {
    "name": "ipython",
    "version": 3
   },
   "file_extension": ".py",
   "mimetype": "text/x-python",
   "name": "python",
   "nbconvert_exporter": "python",
   "pygments_lexer": "ipython3",
   "version": "3.12.2"
  }
 },
 "nbformat": 4,
 "nbformat_minor": 2
}
