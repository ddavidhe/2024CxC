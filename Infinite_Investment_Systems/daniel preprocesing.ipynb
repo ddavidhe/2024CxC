{
 "cells": [
  {
   "cell_type": "code",
   "execution_count": 25,
   "metadata": {},
   "outputs": [
    {
     "name": "stdout",
     "output_type": "stream",
     "text": [
      "Requirement already satisfied: pandas in /Library/Frameworks/Python.framework/Versions/3.12/lib/python3.12/site-packages (2.2.0)\n",
      "Requirement already satisfied: numpy<2,>=1.26.0 in /Library/Frameworks/Python.framework/Versions/3.12/lib/python3.12/site-packages (from pandas) (1.26.4)\n",
      "Requirement already satisfied: python-dateutil>=2.8.2 in /Users/Hanqi/Library/Python/3.12/lib/python/site-packages (from pandas) (2.8.2)\n",
      "Requirement already satisfied: pytz>=2020.1 in /Library/Frameworks/Python.framework/Versions/3.12/lib/python3.12/site-packages (from pandas) (2024.1)\n",
      "Requirement already satisfied: tzdata>=2022.7 in /Library/Frameworks/Python.framework/Versions/3.12/lib/python3.12/site-packages (from pandas) (2023.4)\n",
      "Requirement already satisfied: six>=1.5 in /Users/Hanqi/Library/Python/3.12/lib/python/site-packages (from python-dateutil>=2.8.2->pandas) (1.16.0)\n",
      "Note: you may need to restart the kernel to use updated packages.\n"
     ]
    },
    {
     "name": "stderr",
     "output_type": "stream",
     "text": [
      "/var/folders/sv/b643fd993ml6d9g_v9klf5mh0000gn/T/ipykernel_12191/517464067.py:14: DtypeWarning: Columns (87) have mixed types. Specify dtype option on import or set low_memory=False.\n",
      "  history_df = pd.read_csv(cur_path + '/history.csv')\n"
     ]
    }
   ],
   "source": [
    "%pip install pandas\n",
    "\n",
    "import pandas as pd\n",
    "import numpy as np\n",
    "import matplotlib.pyplot as plt\n",
    "import matplotlib.dates as mdates\n",
    "import seaborn as sns\n",
    "from sklearn.preprocessing import StandardScaler\n",
    "import pathlib \n",
    "import os\n",
    "cur_path  = os.getcwd()\n",
    "\n",
    "data_df = pd.read_csv(cur_path + '/account_data_info.csv')\n",
    "history_df = pd.read_csv(cur_path + '/history.csv')\n"
   ]
  },
  {
   "cell_type": "code",
   "execution_count": 26,
   "metadata": {},
   "outputs": [],
   "source": [
    "filtered_data_df = data_df[data_df['Columns'].isin(history_df.columns)]"
   ]
  },
  {
   "cell_type": "code",
   "execution_count": 28,
   "metadata": {},
   "outputs": [
    {
     "name": "stdout",
     "output_type": "stream",
     "text": [
      "(111, 3)\n",
      "(107, 3)\n",
      "(673339, 106)\n"
     ]
    }
   ],
   "source": [
    "\n",
    "print(data_df.shape)\n",
    "print(filtered_data_df.shape)\n",
    "print(history_df.shape)"
   ]
  },
  {
   "cell_type": "code",
   "execution_count": 33,
   "metadata": {},
   "outputs": [
    {
     "name": "stdout",
     "output_type": "stream",
     "text": [
      "         Columns             Description  \\\n",
      "0      type_code            Account Type   \n",
      "1  is_registered                     NaN   \n",
      "2   country_code                     NaN   \n",
      "3  currency_code  Currency of the Accoun   \n",
      "4      is_active                     NaN   \n",
      "\n",
      "                                        Field Values  \n",
      "0  CSH - Cash/RSP (note: Registered accounts are ...  \n",
      "1                                MRL - Margin - Long  \n",
      "2                               MRS - Margin - Short  \n",
      "3                             COD - Cash on Delivery  \n",
      "4                                    COM - Commodity  \n",
      "         Columns             Description  \\\n",
      "0      type_code            Account Type   \n",
      "1  is_registered                     NaN   \n",
      "2   country_code                     NaN   \n",
      "3  currency_code  Currency of the Accoun   \n",
      "4      is_active                     NaN   \n",
      "\n",
      "                                        Field Values  \n",
      "0  CSH - Cash/RSP (note: Registered accounts are ...  \n",
      "1                                MRL - Margin - Long  \n",
      "2                               MRS - Margin - Short  \n",
      "3                             COD - Cash on Delivery  \n",
      "4                                    COM - Commodity  \n"
     ]
    }
   ],
   "source": [
    "print(filtered_data_df.head())\n",
    "print(data_df.head())"
   ]
  },
  {
   "cell_type": "markdown",
   "metadata": {},
   "source": []
  }
 ],
 "metadata": {
  "kernelspec": {
   "display_name": "Python 3",
   "language": "python",
   "name": "python3"
  },
  "language_info": {
   "codemirror_mode": {
    "name": "ipython",
    "version": 3
   },
   "file_extension": ".py",
   "mimetype": "text/x-python",
   "name": "python",
   "nbconvert_exporter": "python",
   "pygments_lexer": "ipython3",
   "version": "3.12.2"
  }
 },
 "nbformat": 4,
 "nbformat_minor": 2
}
