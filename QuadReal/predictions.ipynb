{
 "cells": [
  {
   "cell_type": "code",
   "execution_count": 10,
   "metadata": {},
   "outputs": [],
   "source": [
    "import numpy as np \n",
    "import pandas as pd \n",
    "\n",
    "from sklearn.model_selection import train_test_split\n",
    "from sklearn.model_selection import TimeSeriesSplit #for data preprocessing and crass validating \n",
    "from sklearn.model_selection import cross_validate\n",
    "from sklearn.model_selection import KFold\n",
    "from sklearn.model_selection import cross_val_score\n",
    "from sklearn.impute import SimpleImputer\n",
    "from sklearn.metrics import mean_squared_error, r2_score\n",
    "from sklearn.ensemble import HistGradientBoostingRegressor\n",
    "\n",
    "from statistics import mean\n",
    "from hyperopt import Trials, hp, fmin, tpe, STATUS_OK, space_eval #for hyperparameter tuning and minimizing\n",
    "\n",
    "from cyclic_boosting.pipelines import pipeline_CBClassifier\n",
    "\n",
    "from datetime import date\n",
    "from datetime import datetime\n",
    "from datetime import timedelta\n",
    "\n",
    "import tensorflow as tf\n",
    "import keras\n",
    "import keras.layers as layers\n",
    "from keras.layers import Dense\n",
    "from keras.models import Sequential\n",
    "from keras.utils import to_categorical\n",
    "from keras.optimizers import SGD \n",
    "from keras.callbacks import EarlyStopping\n",
    "from keras.losses import MeanSquaredError\n",
    "from keras.layers import LSTM\n",
    "\n",
    "import itertools\n",
    "\n",
    "from sklearn.discriminant_analysis import StandardScaler\n",
    "\n",
    "\n",
    "import seaborn as sns \n",
    "\n",
    "from scipy.stats import boxcox \n",
    "from scipy.special import inv_boxcox\n",
    "\n",
    "from termcolor import colored\n",
    "\n",
    "import joblib\n",
    "from tqdm import tqdm \n"
   ]
  },
  {
   "cell_type": "code",
   "execution_count": 11,
   "metadata": {},
   "outputs": [],
   "source": [
    "modelDict = joblib.load('modelDict.pkl')\n"
   ]
  },
  {
   "cell_type": "code",
   "execution_count": 32,
   "metadata": {},
   "outputs": [],
   "source": [
    "samples = pd.read_csv('preprocessed_lstm.csv')\n",
    "building_id = pd.read_csv('devices.csv')\n",
    "test = pd.read_csv('test.csv', header = None)\n",
    "reading_types = pd.read_csv('reading_types.csv')\n",
    "\n",
    "predictions = test"
   ]
  },
  {
   "cell_type": "code",
   "execution_count": 33,
   "metadata": {},
   "outputs": [],
   "source": [
    "predictions.columns = ['device_id', 'date', 'value_type_id']\n",
    "samples['date'] = pd.to_datetime(samples['date'])\n",
    "predictions = pd.merge(predictions, building_id, on='device_id', how='inner')\n",
    "predictions['date'] =  pd.to_datetime(predictions['date'])\n",
    "predictions['floored_date'] = predictions['date'].dt.floor('H')"
   ]
  },
  {
   "cell_type": "code",
   "execution_count": 23,
   "metadata": {},
   "outputs": [
    {
     "name": "stdout",
     "output_type": "stream",
     "text": [
      "<class 'pandas.core.frame.DataFrame'>\n",
      "RangeIndex: 1048576 entries, 0 to 1048575\n",
      "Data columns (total 5 columns):\n",
      " #   Column         Non-Null Count    Dtype         \n",
      "---  ------         --------------    -----         \n",
      " 0   device_id      1048576 non-null  int64         \n",
      " 1   date           1048576 non-null  datetime64[ns]\n",
      " 2   value_type_id  1048576 non-null  int64         \n",
      " 3   building_id    1048576 non-null  int64         \n",
      " 4   floored_date   1048576 non-null  datetime64[ns]\n",
      "dtypes: datetime64[ns](2), int64(3)\n",
      "memory usage: 40.0 MB\n"
     ]
    }
   ],
   "source": [
    "predictions.info() \n",
    "pregressBar = tqdm(len = len(predictions))"
   ]
  },
  {
   "cell_type": "code",
   "execution_count": 34,
   "metadata": {},
   "outputs": [],
   "source": [
    "def get_predictions(row):\n",
    "    type = row['value_type_id']\n",
    "    date = row['floored_date']\n",
    "    building = row['building_id']\n",
    "    print(reading_types.at[type - 1, 'reading_type_name'], date, building, '=' * 80)\n",
    "\n",
    "    model = modelDict[building][type - 1]\n",
    "\n",
    "    start_date = date  - timedelta(hours = 1)\n",
    "\n",
    "    inputs = samples[(samples['building_id'] == building)]\n",
    "    inputs = inputs[(inputs['date'] >= start_date) & (inputs['date'] < date)]\n",
    "\n",
    "    print(inputs.head(1))\n",
    "    inputs = inputs.drop(['Unnamed: 0', 'building_id', 'date'], axis = 1)  \n",
    "\n",
    "    inputs = inputs[[str(type)]]\n",
    "\n",
    "    scaler = StandardScaler() \n",
    "    scaler = scaler.fit(inputs)\n",
    "    inputs_scaled = scaler.transform(inputs)\n",
    "\n",
    "    prediction = model.predict(inputs_scaled)\n",
    "\n",
    "    pred = scaler.inverse_transform(prediction)[0, 0]\n",
    "\n",
    "    print(pred)\n",
    "\n",
    "    return pred #prob have to grab the value or smt\n",
    "\n",
    "\n",
    "\n"
   ]
  },
  {
   "cell_type": "code",
   "execution_count": 35,
   "metadata": {},
   "outputs": [
    {
     "name": "stdout",
     "output_type": "stream",
     "text": [
      "CO2 2023-05-12 14:00:00 1 ================================================================================\n",
      "       Unnamed: 0                date  building_id      1    2     3    4  \\\n",
      "56009        3069 2023-05-12 13:00:00            1  480.0  0.2  35.5  0.0   \n",
      "\n",
      "         5    6         7  ...    10         11        12  day type   Fall  \\\n",
      "56009  0.0  0.0  9.214286  ...  20.2  18.866667  53.20625         1  False   \n",
      "\n",
      "       Spring  Summer  Winter  trimester_day  working_hour  \n",
      "56009    True   False   False             72             5  \n",
      "\n",
      "[1 rows x 22 columns]\n",
      "1/1 [==============================] - 0s 24ms/step\n",
      "480.27908\n",
      "CO 2023-05-12 14:00:00 1 ================================================================================\n",
      "       Unnamed: 0                date  building_id      1    2     3    4  \\\n",
      "56009        3069 2023-05-12 13:00:00            1  480.0  0.2  35.5  0.0   \n",
      "\n",
      "         5    6         7  ...    10         11        12  day type   Fall  \\\n",
      "56009  0.0  0.0  9.214286  ...  20.2  18.866667  53.20625         1  False   \n",
      "\n",
      "       Spring  Summer  Winter  trimester_day  working_hour  \n",
      "56009    True   False   False             72             5  \n",
      "\n",
      "[1 rows x 22 columns]\n",
      "1/1 [==============================] - 0s 24ms/step\n",
      "0.37800542\n",
      "TVOC 2023-05-12 14:00:00 1 ================================================================================\n",
      "       Unnamed: 0                date  building_id      1    2     3    4  \\\n",
      "56009        3069 2023-05-12 13:00:00            1  480.0  0.2  35.5  0.0   \n",
      "\n",
      "         5    6         7  ...    10         11        12  day type   Fall  \\\n",
      "56009  0.0  0.0  9.214286  ...  20.2  18.866667  53.20625         1  False   \n",
      "\n",
      "       Spring  Summer  Winter  trimester_day  working_hour  \n",
      "56009    True   False   False             72             5  \n",
      "\n",
      "[1 rows x 22 columns]\n",
      "1/1 [==============================] - 0s 41ms/step\n",
      "35.37657\n",
      "PM10 2023-05-12 14:00:00 1 ================================================================================\n",
      "       Unnamed: 0                date  building_id      1    2     3    4  \\\n",
      "56009        3069 2023-05-12 13:00:00            1  480.0  0.2  35.5  0.0   \n",
      "\n",
      "         5    6         7  ...    10         11        12  day type   Fall  \\\n",
      "56009  0.0  0.0  9.214286  ...  20.2  18.866667  53.20625         1  False   \n",
      "\n",
      "       Spring  Summer  Winter  trimester_day  working_hour  \n",
      "56009    True   False   False             72             5  \n",
      "\n",
      "[1 rows x 22 columns]\n",
      "1/1 [==============================] - 0s 24ms/step\n",
      "0.0\n",
      "PM25 2023-05-12 14:00:00 1 ================================================================================\n",
      "       Unnamed: 0                date  building_id      1    2     3    4  \\\n",
      "56009        3069 2023-05-12 13:00:00            1  480.0  0.2  35.5  0.0   \n",
      "\n",
      "         5    6         7  ...    10         11        12  day type   Fall  \\\n",
      "56009  0.0  0.0  9.214286  ...  20.2  18.866667  53.20625         1  False   \n",
      "\n",
      "       Spring  Summer  Winter  trimester_day  working_hour  \n",
      "56009    True   False   False             72             5  \n",
      "\n",
      "[1 rows x 22 columns]\n",
      "1/1 [==============================] - 0s 24ms/step\n",
      "0.0\n"
     ]
    }
   ],
   "source": [
    "predictions = predictions.head(5)\n",
    "predictions['value'] = predictions.apply(get_predictions, axis=1)"
   ]
  },
  {
   "cell_type": "code",
   "execution_count": 17,
   "metadata": {},
   "outputs": [],
   "source": [
    "predictions = predictions.drop(['floored_date', 'building_id'], axis = 1)\n",
    "predictions.to_csv('predictions.csv', header = False)"
   ]
  }
 ],
 "metadata": {
  "kernelspec": {
   "display_name": "Python 3",
   "language": "python",
   "name": "python3"
  },
  "language_info": {
   "codemirror_mode": {
    "name": "ipython",
    "version": 3
   },
   "file_extension": ".py",
   "mimetype": "text/x-python",
   "name": "python",
   "nbconvert_exporter": "python",
   "pygments_lexer": "ipython3",
   "version": "3.11.4"
  }
 },
 "nbformat": 4,
 "nbformat_minor": 2
}
