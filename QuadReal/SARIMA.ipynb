{
 "cells": [
  {
   "cell_type": "code",
   "execution_count": 1,
   "metadata": {},
   "outputs": [
    {
     "name": "stderr",
     "output_type": "stream",
     "text": [
      "Importing plotly failed. Interactive plots will not work.\n"
     ]
    }
   ],
   "source": [
    "import numpy as np \n",
    "import pandas as pd \n",
    "\n",
    "from sklearn.model_selection import train_test_split\n",
    "from sklearn.model_selection import TimeSeriesSplit #for data preprocessing and crass validating \n",
    "from sklearn.model_selection import cross_validate\n",
    "from sklearn.model_selection import KFold\n",
    "from sklearn.model_selection import cross_val_score\n",
    "from sklearn.impute import SimpleImputer\n",
    "from sklearn.metrics import mean_squared_error, r2_score\n",
    "\n",
    "from sklearn.linear_model import LogisticRegression #logistic Regression\n",
    "from sklearn.ensemble import RandomForestRegressor #Random Forest \n",
    "\n",
    "from statistics import mean\n",
    "from hyperopt import Trials, hp, fmin, tpe, STATUS_OK, space_eval #for hyperparameter tuning and minimizing\n",
    "\n",
    "from cyclic_boosting.pipelines import pipeline_CBClassifier\n",
    "from sklearn.ensemble import HistGradientBoostingRegressor\n",
    "\n",
    "from datetime import date\n",
    "from datetime import datetime\n",
    "\n",
    "from prophet import Prophet "
   ]
  },
  {
   "cell_type": "code",
   "execution_count": 2,
   "metadata": {},
   "outputs": [
    {
     "name": "stdout",
     "output_type": "stream",
     "text": [
      "<class 'pandas.core.frame.DataFrame'>\n",
      "RangeIndex: 2289876 entries, 0 to 2289875\n",
      "Data columns (total 38 columns):\n",
      " #   Column         Dtype         \n",
      "---  ------         -----         \n",
      " 0   Unnamed: 0     int64         \n",
      " 1   value_type_id  float64       \n",
      " 2   value          float64       \n",
      " 3   date           datetime64[ns]\n",
      " 4   Fall           bool          \n",
      " 5   Spring         bool          \n",
      " 6   Summer         bool          \n",
      " 7   Winter         bool          \n",
      " 8   trimester_day  int64         \n",
      " 9   building_1.0   bool          \n",
      " 10  building_2.0   bool          \n",
      " 11  building_3.0   bool          \n",
      " 12  building_6.0   bool          \n",
      " 13  building_8.0   bool          \n",
      " 14  building_10.0  bool          \n",
      " 15  building_11.0  bool          \n",
      " 16  building_12.0  bool          \n",
      " 17  building_13.0  bool          \n",
      " 18  building_16.0  bool          \n",
      " 19  building_17.0  bool          \n",
      " 20  building_18.0  bool          \n",
      " 21  building_19.0  bool          \n",
      " 22  building_20.0  bool          \n",
      " 23  building_21.0  bool          \n",
      " 24  building_23.0  bool          \n",
      " 25  building_24.0  bool          \n",
      " 26  building_25.0  bool          \n",
      " 27  building_26.0  bool          \n",
      " 28  building_29.0  bool          \n",
      " 29  building_31.0  bool          \n",
      " 30  building_32.0  bool          \n",
      " 31  building_33.0  bool          \n",
      " 32  building_34.0  bool          \n",
      " 33  building_36.0  bool          \n",
      " 34  building_37.0  bool          \n",
      " 35  building_38.0  bool          \n",
      " 36  building_40.0  bool          \n",
      " 37  building_41.0  bool          \n",
      "dtypes: bool(33), datetime64[ns](1), float64(2), int64(2)\n",
      "memory usage: 159.4 MB\n"
     ]
    }
   ],
   "source": [
    "samples = pd.read_csv('preprocessed.csv')\n",
    "samples['date'] = pd.to_datetime(samples['date'])\n",
    "samples = samples.drop(columns=['value_type_id', 'Unnamed: 0'], axis = 1)\n",
    "reading_types = pd.read_csv('reading_types.csv')\n",
    "\n",
    "samples.info()\n",
    "\n",
    "df_lst = [(k, v) for k, v in samples.groupby('value_type_id')]"
   ]
  },
  {
   "cell_type": "code",
   "execution_count": 3,
   "metadata": {},
   "outputs": [
    {
     "name": "stdout",
     "output_type": "stream",
     "text": [
      "CO2 --------------------------------------------------------------------------------\n"
     ]
    },
    {
     "name": "stderr",
     "output_type": "stream",
     "text": [
      "16:15:34 - cmdstanpy - INFO - Chain [1] start processing\n",
      "16:16:16 - cmdstanpy - INFO - Chain [1] done processing\n"
     ]
    },
    {
     "name": "stdout",
     "output_type": "stream",
     "text": [
      "                    ds       trend  yhat_lower  yhat_upper  trend_lower  \\\n",
      "0  2023-10-03 12:00:00  514.361219  433.296954  628.512061   514.361219   \n",
      "1  2023-10-03 12:00:00  514.361219  433.975077  625.841986   514.361219   \n",
      "2  2023-10-03 12:00:00  514.361219  430.623339  621.035521   514.361219   \n",
      "3  2023-10-03 12:00:00  514.361219  434.409102  626.216448   514.361219   \n",
      "4  2023-10-03 12:00:00  514.361219  430.111647  625.087230   514.361219   \n",
      "..                 ...         ...         ...         ...          ...   \n",
      "95 2023-10-03 16:00:00  514.346625  426.411216  615.548341   514.346625   \n",
      "96 2023-10-03 16:00:00  514.346625  425.779682  621.364063   514.346625   \n",
      "97 2023-10-03 16:00:00  514.346625  429.715525  621.788902   514.346625   \n",
      "98 2023-10-03 16:00:00  514.346625  429.014209  624.938840   514.346625   \n",
      "99 2023-10-03 16:00:00  514.346625  432.759043  634.341810   514.346625   \n",
      "\n",
      "    trend_upper  additive_terms  additive_terms_lower  additive_terms_upper  \\\n",
      "0    514.361219       13.000530             13.000530             13.000530   \n",
      "1    514.361219       13.000530             13.000530             13.000530   \n",
      "2    514.361219       13.000530             13.000530             13.000530   \n",
      "3    514.361219       13.000530             13.000530             13.000530   \n",
      "4    514.361219       13.000530             13.000530             13.000530   \n",
      "..          ...             ...                   ...                   ...   \n",
      "95   514.346625       13.013863             13.013863             13.013863   \n",
      "96   514.346625       13.013863             13.013863             13.013863   \n",
      "97   514.346625       13.013863             13.013863             13.013863   \n",
      "98   514.346625       13.013863             13.013863             13.013863   \n",
      "99   514.346625       13.013863             13.013863             13.013863   \n",
      "\n",
      "       daily  daily_lower  daily_upper    weekly  weekly_lower  weekly_upper  \\\n",
      "0   4.344564     4.344564     4.344564  8.655966      8.655966      8.655966   \n",
      "1   4.344564     4.344564     4.344564  8.655966      8.655966      8.655966   \n",
      "2   4.344564     4.344564     4.344564  8.655966      8.655966      8.655966   \n",
      "3   4.344564     4.344564     4.344564  8.655966      8.655966      8.655966   \n",
      "4   4.344564     4.344564     4.344564  8.655966      8.655966      8.655966   \n",
      "..       ...          ...          ...       ...           ...           ...   \n",
      "95  3.699498     3.699498     3.699498  9.314364      9.314364      9.314364   \n",
      "96  3.699498     3.699498     3.699498  9.314364      9.314364      9.314364   \n",
      "97  3.699498     3.699498     3.699498  9.314364      9.314364      9.314364   \n",
      "98  3.699498     3.699498     3.699498  9.314364      9.314364      9.314364   \n",
      "99  3.699498     3.699498     3.699498  9.314364      9.314364      9.314364   \n",
      "\n",
      "    multiplicative_terms  multiplicative_terms_lower  \\\n",
      "0                    0.0                         0.0   \n",
      "1                    0.0                         0.0   \n",
      "2                    0.0                         0.0   \n",
      "3                    0.0                         0.0   \n",
      "4                    0.0                         0.0   \n",
      "..                   ...                         ...   \n",
      "95                   0.0                         0.0   \n",
      "96                   0.0                         0.0   \n",
      "97                   0.0                         0.0   \n",
      "98                   0.0                         0.0   \n",
      "99                   0.0                         0.0   \n",
      "\n",
      "    multiplicative_terms_upper        yhat  \n",
      "0                          0.0  527.361749  \n",
      "1                          0.0  527.361749  \n",
      "2                          0.0  527.361749  \n",
      "3                          0.0  527.361749  \n",
      "4                          0.0  527.361749  \n",
      "..                         ...         ...  \n",
      "95                         0.0  527.360487  \n",
      "96                         0.0  527.360487  \n",
      "97                         0.0  527.360487  \n",
      "98                         0.0  527.360487  \n",
      "99                         0.0  527.360487  \n",
      "\n",
      "[100 rows x 19 columns]\n",
      "6611      567.500000\n",
      "84343     570.925000\n",
      "93090     621.275862\n",
      "181713    550.800000\n",
      "110529    682.400000\n",
      "             ...    \n",
      "15365     530.200000\n",
      "93094     622.550345\n",
      "57800     458.400000\n",
      "46344     527.814815\n",
      "190468    408.600000\n",
      "Name: y, Length: 100, dtype: float64\n",
      "0.007975636860798496\n"
     ]
    }
   ],
   "source": [
    "pred: pd.DataFrame\n",
    "for num, df in df_lst[0:1]:\n",
    "    df = df.drop(columns=['value_type_id', 'Unnamed: 0'], axis = 1)\n",
    "    df = df.sort_values(by='date')  \n",
    "\n",
    "    "
   ]
  }
 ],
 "metadata": {
  "kernelspec": {
   "display_name": "Python 3",
   "language": "python",
   "name": "python3"
  },
  "language_info": {
   "codemirror_mode": {
    "name": "ipython",
    "version": 3
   },
   "file_extension": ".py",
   "mimetype": "text/x-python",
   "name": "python",
   "nbconvert_exporter": "python",
   "pygments_lexer": "ipython3",
   "version": "3.11.4"
  }
 },
 "nbformat": 4,
 "nbformat_minor": 2
}
