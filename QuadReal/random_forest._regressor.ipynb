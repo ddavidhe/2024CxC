{
 "cells": [
  {
   "cell_type": "code",
   "execution_count": 1,
   "metadata": {},
   "outputs": [],
   "source": [
    "import numpy as np \n",
    "import pandas as pd \n",
    "\n",
    "from sklearn.model_selection import train_test_split\n",
    "from sklearn.model_selection import TimeSeriesSplit #for data preprocessing and crass validating \n",
    "from sklearn.model_selection import cross_validate\n",
    "from sklearn.model_selection import KFold\n",
    "from sklearn.model_selection import cross_val_score\n",
    "from sklearn.impute import SimpleImputer\n",
    "\n",
    "from sklearn.linear_model import LogisticRegression #logistic Regression\n",
    "from sklearn.ensemble import RandomForestRegressor #Random Forest \n",
    "\n",
    "from statistics import mean\n",
    "from hyperopt import Trials, hp, fmin, tpe, STATUS_OK, space_eval #for hyperparameter tuning and minimizing\n",
    "\n",
    "from cyclic_boosting.pipelines import pipeline_CBClassifier\n",
    "from sklearn.ensemble import HistGradientBoostingRegressor\n",
    "\n",
    "from datetime import date\n",
    "from datetime import datetime"
   ]
  },
  {
   "cell_type": "code",
   "execution_count": 2,
   "metadata": {},
   "outputs": [
    {
     "name": "stdout",
     "output_type": "stream",
     "text": [
      "<class 'pandas.core.frame.DataFrame'>\n",
      "RangeIndex: 957826 entries, 0 to 957825\n",
      "Data columns (total 41 columns):\n",
      " #   Column         Non-Null Count   Dtype         \n",
      "---  ------         --------------   -----         \n",
      " 0   Unnamed: 0     957826 non-null  int64         \n",
      " 1   date           957826 non-null  datetime64[ns]\n",
      " 2   value_type_id  957826 non-null  int64         \n",
      " 3   value          957826 non-null  float64       \n",
      " 4   work_hours     957826 non-null  bool          \n",
      " 5   day type       957826 non-null  int64         \n",
      " 6   Fall           957826 non-null  bool          \n",
      " 7   Spring         957826 non-null  bool          \n",
      " 8   Summer         957826 non-null  bool          \n",
      " 9   Winter         957826 non-null  bool          \n",
      " 10  trimester_day  957826 non-null  int64         \n",
      " 11  working_hour   957826 non-null  int64         \n",
      " 12  building_1     957826 non-null  bool          \n",
      " 13  building_2     957826 non-null  bool          \n",
      " 14  building_3     957826 non-null  bool          \n",
      " 15  building_6     957826 non-null  bool          \n",
      " 16  building_8     957826 non-null  bool          \n",
      " 17  building_10    957826 non-null  bool          \n",
      " 18  building_11    957826 non-null  bool          \n",
      " 19  building_12    957826 non-null  bool          \n",
      " 20  building_13    957826 non-null  bool          \n",
      " 21  building_16    957826 non-null  bool          \n",
      " 22  building_17    957826 non-null  bool          \n",
      " 23  building_18    957826 non-null  bool          \n",
      " 24  building_19    957826 non-null  bool          \n",
      " 25  building_20    957826 non-null  bool          \n",
      " 26  building_21    957826 non-null  bool          \n",
      " 27  building_23    957826 non-null  bool          \n",
      " 28  building_24    957826 non-null  bool          \n",
      " 29  building_25    957826 non-null  bool          \n",
      " 30  building_26    957826 non-null  bool          \n",
      " 31  building_29    957826 non-null  bool          \n",
      " 32  building_31    957826 non-null  bool          \n",
      " 33  building_32    957826 non-null  bool          \n",
      " 34  building_33    957826 non-null  bool          \n",
      " 35  building_34    957826 non-null  bool          \n",
      " 36  building_36    957826 non-null  bool          \n",
      " 37  building_37    957826 non-null  bool          \n",
      " 38  building_38    957826 non-null  bool          \n",
      " 39  building_40    957826 non-null  bool          \n",
      " 40  building_41    957826 non-null  bool          \n",
      "dtypes: bool(34), datetime64[ns](1), float64(1), int64(5)\n",
      "memory usage: 82.2 MB\n"
     ]
    }
   ],
   "source": [
    "samples = pd.read_csv('preprocessed.csv')\n",
    "samples['date'] = pd.to_datetime(samples['date'])\n",
    "\n",
    "reading_types = pd.read_csv('reading_types.csv')\n",
    "\n",
    "samples.info()\n",
    "\n",
    "df_lst = [v for k, v in samples.groupby('value_type_id')]"
   ]
  },
  {
   "cell_type": "code",
   "execution_count": 3,
   "metadata": {},
   "outputs": [
    {
     "name": "stdout",
     "output_type": "stream",
     "text": [
      "{'bootstrap': False, 'criterion': 'absolute_error', 'max_depth': 50, 'max_features': 'log2', 'min_samples_leaf': 2, 'min_samples_split': 4, 'n_estimators': 94}\n",
      "{'bootstrap': True, 'criterion': 'squared_error', 'max_depth': 75, 'max_features': 'log2', 'min_samples_leaf': 5, 'min_samples_split': 4, 'n_estimators': 52}\n",
      "{'bootstrap': False, 'criterion': 'friedman_mse', 'max_depth': 1, 'max_features': 'log2', 'min_samples_leaf': 4, 'min_samples_split': 5, 'n_estimators': 96}\n",
      "{'bootstrap': False, 'criterion': 'friedman_mse', 'max_depth': 75, 'max_features': None, 'min_samples_leaf': 2, 'min_samples_split': 20, 'n_estimators': 81}\n",
      "{'bootstrap': True, 'criterion': 'friedman_mse', 'max_depth': 75, 'max_features': 'log2', 'min_samples_leaf': 2, 'min_samples_split': 20, 'n_estimators': 94}\n",
      "{'bootstrap': True, 'criterion': 'friedman_mse', 'max_depth': 200, 'max_features': 'sqrt', 'min_samples_leaf': 3, 'min_samples_split': 10, 'n_estimators': 63}\n",
      "{'bootstrap': True, 'criterion': 'absolute_error', 'max_depth': 5, 'max_features': None, 'min_samples_leaf': 4, 'min_samples_split': 10, 'n_estimators': 71}\n",
      "{'bootstrap': False, 'criterion': 'squared_error', 'max_depth': 75, 'max_features': None, 'min_samples_leaf': 4, 'min_samples_split': 5, 'n_estimators': 99}\n",
      "{'bootstrap': True, 'criterion': 'squared_error', 'max_depth': 50, 'max_features': 'log2', 'min_samples_leaf': 1, 'min_samples_split': 2, 'n_estimators': 87}\n",
      "{'bootstrap': False, 'criterion': 'squared_error', 'max_depth': 5, 'max_features': 'log2', 'min_samples_leaf': 1, 'min_samples_split': 3, 'n_estimators': 72}\n",
      "{'bootstrap': True, 'criterion': 'absolute_error', 'max_depth': 200, 'max_features': None, 'min_samples_leaf': 5, 'min_samples_split': 2, 'n_estimators': 83}\n",
      " 25%|██▌       | 10/40 [3:57:01<5:43:14, 686.49s/trial, best loss: -0.7034064299878746]"
     ]
    }
   ],
   "source": [
    "for df in df_lst:\n",
    "    df = df.drop(columns=['value_type_id', 'Unnamed: 0'], axis = 1)\n",
    "    df = df.sort_values(by='date') \n",
    "    df = df.drop(columns = ['date'], axis = 1)\n",
    "    x_train, x_test, y_train, y_test = train_test_split(df.drop(['value'], axis = 1), df['value'])\n",
    "    tst_cv = TimeSeriesSplit(n_splits=5, gap = 48)\n",
    "\n",
    "    space = {\n",
    "    'n_estimators': hp.choice('n_estimators', range(50, 100)),\n",
    "    'max_depth': hp.choice('max_depth', [1, 5, 10, 20, 50, 75, 100, 150, 200]),\n",
    "    'min_samples_split': hp.choice('min_samples_split', [2, 3, 4, 5, 10, 20]),\n",
    "    'min_samples_leaf': hp.choice('min_samples_leaf', [1, 2, 3, 4, 5]),\n",
    "    'bootstrap': hp.choice('bootstrap', [True, False]),\n",
    "    'criterion': hp.choice('criterion', ['squared_error', 'absolute_error', 'friedman_mse']),\n",
    "    'max_features': hp.choice('max_features', ['sqrt', None, 'log2'])\n",
    "    }\n",
    "\n",
    "    # kfold = KFold(n_splits = 5, shuffle = True, random_state = 0)\n",
    "\n",
    "    def objective(params):\n",
    "        clf = RandomForestRegressor(**params)\n",
    "        print(params)\n",
    "        tst_cv = TimeSeriesSplit(n_splits=5, gap = 48)\n",
    "        scores = cross_val_score(clf, x_train, y_train, cv = tst_cv, scoring = 'r2', n_jobs = -1)\n",
    "        best_score = mean(scores) \n",
    "        loss = -best_score\n",
    "        return {'loss': loss, 'params': params, 'status': STATUS_OK}\n",
    "\n",
    "    num_trials = Trials()\n",
    "    best = fmin(fn = objective, space = space, algo = tpe.suggest, max_evals = 40, trials = num_trials)\n",
    "\n",
    "    randomForest = RandomForestRegressor(n_estimators = space_eval(space, best)['n_estimators'], max_depth = space_eval(space, best)['max_depth'],\n",
    "                                        min_samples_split = space_eval(space, best)['min_samples_split'], min_samples_leaf = space_eval(space, best)['min_samples_leaf'],\n",
    "                                        bootstrap = space_eval(space, best)['bootstrap'], criterion = space_eval(space, best)['criterion'], \n",
    "                                        max_features = space_eval(space, best)['max_features'])"
   ]
  }
 ],
 "metadata": {
  "kernelspec": {
   "display_name": "Python 3",
   "language": "python",
   "name": "python3"
  },
  "language_info": {
   "codemirror_mode": {
    "name": "ipython",
    "version": 3
   },
   "file_extension": ".py",
   "mimetype": "text/x-python",
   "name": "python",
   "nbconvert_exporter": "python",
   "pygments_lexer": "ipython3",
   "version": "3.11.4"
  }
 },
 "nbformat": 4,
 "nbformat_minor": 2
}
