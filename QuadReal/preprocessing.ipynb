{
 "cells": [
  {
   "cell_type": "code",
   "execution_count": 1,
   "metadata": {},
   "outputs": [],
   "source": [
    "import pandas as pd\n",
    "import numpy as np\n",
    "import matplotlib.pyplot as plt\n",
    "import seaborn as sns\n",
    "from sklearn.preprocessing import StandardScaler\n",
    "import pathlib \n",
    "import os"
   ]
  },
  {
   "cell_type": "code",
   "execution_count": 2,
   "metadata": {},
   "outputs": [],
   "source": [
    "cur_path  = os.getcwd()\n",
    "\n",
    "devices_df = pd.read_csv(cur_path + '/devices.csv')\n",
    "readings_df = pd.read_csv(cur_path + '/sampled_readings.csv')\n",
    "reading_types_df = pd.read_csv(cur_path + '/reading_types.csv')"
   ]
  },
  {
   "cell_type": "code",
   "execution_count": null,
   "metadata": {},
   "outputs": [
    {
     "ename": "",
     "evalue": "",
     "output_type": "error",
     "traceback": [
      "\u001b[1;31mThe Kernel crashed while executing code in the current cell or a previous cell. \n",
      "\u001b[1;31mPlease review the code in the cell(s) to identify a possible cause of the failure. \n",
      "\u001b[1;31mClick <a href='https://aka.ms/vscodeJupyterKernelCrash'>here</a> for more info. \n",
      "\u001b[1;31mView Jupyter <a href='command:jupyter.viewOutput'>log</a> for further details."
     ]
    }
   ],
   "source": [
    "# hour_mapping (1 if between 8am and 6pm)\n",
    "\n",
    "readings_df['date'] = pd.to_datetime(readings_df['date'])\n",
    "\n",
    "readings_df['work_hours'] = readings_df['date'].dt.hour.between(8, 18)\n",
    "readings_df['work_hours'].map({True: 1, False: 0})\n"
   ]
  },
  {
   "cell_type": "code",
   "execution_count": null,
   "metadata": {},
   "outputs": [],
   "source": [
    "# season mapping\n",
    "\n",
    "readings_df['season'] = readings_df['date'].dt.month.map({\n",
    "    1: 'Winter',\n",
    "    2: 'Winter',\n",
    "    3: 'Spring',\n",
    "    4: 'Spring',\n",
    "    5: 'Spring',\n",
    "    6: 'Summer',\n",
    "    7: 'Summer',\n",
    "    8: 'Summer',\n",
    "    9: 'Fall',\n",
    "    10: 'Fall',\n",
    "    11: 'Fall',\n",
    "    12: 'Winter'\n",
    "})"
   ]
  },
  {
   "cell_type": "code",
   "execution_count": null,
   "metadata": {},
   "outputs": [],
   "source": [
    "# day of week mapping (1 weekday, 0 weekend)\n",
    "\n",
    "readings_df['day type'] = readings_df['date'].dt.dayofweek.map({\n",
    "    0: 1,\n",
    "    1: 1,\n",
    "    2: 1,\n",
    "    3: 1,\n",
    "    4: 1,\n",
    "    5: 0, \n",
    "    6: 0\n",
    "})"
   ]
  },
  {
   "cell_type": "code",
   "execution_count": null,
   "metadata": {},
   "outputs": [],
   "source": [
    "# nominal categories\n",
    "\n",
    "df_11_12 = readings_df[readings_df['value_type_id'].isin([11, 12])]\n",
    "df_other = readings_df[~readings_df['value_type_id'].isin([11,12])]\n",
    "\n",
    "\n",
    "readings_df = pd.get_dummies(readings_df, columns=['season'])\n",
    "\n",
    "print(df_11_12.head())\n",
    "print(df_other.head())\n",
    "print(readings_df.columns())\n"
   ]
  }
 ],
 "metadata": {
  "kernelspec": {
   "display_name": "Python 3",
   "language": "python",
   "name": "python3"
  },
  "language_info": {
   "codemirror_mode": {
    "name": "ipython",
    "version": 3
   },
   "file_extension": ".py",
   "mimetype": "text/x-python",
   "name": "python",
   "nbconvert_exporter": "python",
   "pygments_lexer": "ipython3",
   "version": "3.11.4"
  }
 },
 "nbformat": 4,
 "nbformat_minor": 2
}
