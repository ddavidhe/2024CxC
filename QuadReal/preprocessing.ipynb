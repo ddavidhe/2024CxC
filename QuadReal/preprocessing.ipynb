{
 "cells": [
  {
   "cell_type": "code",
   "execution_count": 1,
   "metadata": {},
   "outputs": [],
   "source": [
    "import pandas as pd\n",
    "import numpy as np\n",
    "import matplotlib.pyplot as plt\n",
    "import matplotlib.dates as mdates\n",
    "import seaborn as sns\n",
    "from sklearn.preprocessing import StandardScaler\n",
    "import pathlib \n",
    "import os\n",
    "import joblib\n",
    "\n",
    "from statsmodels.tsa.statespace.sarimax import SARIMAX\n",
    "from statsmodels.graphics.tsaplots import plot_acf, plot_pacf\n",
    "from statsmodels.tsa.stattools import adfuller  \n",
    "from sklearn.model_selection import train_test_split\n",
    "from sklearn.metrics import mean_squared_error\n",
    "\n",
    "from collections import Counter\n",
    "from datetime import date \n",
    "import datetime\n"
   ]
  },
  {
   "cell_type": "code",
   "execution_count": 2,
   "metadata": {},
   "outputs": [],
   "source": [
    "cur_path  = os.getcwd()\n",
    "\n",
    "devices_df = pd.read_csv(cur_path + '/devices.csv')\n",
    "readings_df = pd.read_csv(cur_path + '/sampled_readings.csv')\n",
    "reading_types_df = pd.read_csv(cur_path + '/reading_types.csv')"
   ]
  },
  {
   "cell_type": "markdown",
   "metadata": {},
   "source": [
    "### Outlier Detection Using IQR"
   ]
  },
  {
   "cell_type": "code",
   "execution_count": 3,
   "metadata": {},
   "outputs": [],
   "source": [
    "def detect_outliers(df,n,features):\n",
    "    \"\"\"\n",
    "    Takes a dataframe df of features and returns a list of the indices\n",
    "    corresponding to the observations containing more than n outliers according\n",
    "    to the Tukey method.\n",
    "    \"\"\"\n",
    "    outlier_indices = []\n",
    "    \n",
    "    # iterate over features(columns)\n",
    "    for col in features:\n",
    "        # 1st quartile (25%)\n",
    "        Q1 = np.nanpercentile(df[col], 25)\n",
    "        # 3rd quartile (75%)\n",
    "        Q3 = np.nanpercentile(df[col],75)\n",
    "        # Interquartile range (IQR)\n",
    "        IQR = Q3 - Q1\n",
    "        print(\"First Quartertile:\", Q1, \". Third Quartile: \", Q3, \".Interquartile Range: \", IQR)\n",
    "        # outlier step\n",
    "        outlier_step = 1.5 * IQR\n",
    "        \n",
    "        # Determine a list of indices of outliers for feature col\n",
    "        outlier_list_col = df[(df[col] < Q1 - outlier_step) | (df[col] > Q3 + outlier_step )].index\n",
    "        \n",
    "        # append the found outlier indices for col to the list of outlier indices \n",
    "        outlier_indices.extend(outlier_list_col)\n",
    "        \n",
    "    outlier_indices = Counter(outlier_indices)        \n",
    "    multiple_outliers = list( k for k, v in outlier_indices.items() if v >= n )\n",
    "    \n",
    "    return multiple_outliers   "
   ]
  },
  {
   "cell_type": "code",
   "execution_count": 4,
   "metadata": {},
   "outputs": [
    {
     "name": "stdout",
     "output_type": "stream",
     "text": [
      "CO2 ------------------------------------------------------------------------------------------\n",
      "First Quartertile: 429.0 . Third Quartile:  565.1 .Interquartile Range:  136.10000000000002\n",
      "CO ------------------------------------------------------------------------------------------\n",
      "First Quartertile: 0.0 . Third Quartile:  1.7 .Interquartile Range:  1.7\n",
      "TVOC ------------------------------------------------------------------------------------------\n",
      "First Quartertile: 31.0 . Third Quartile:  248.0 .Interquartile Range:  217.0\n",
      "PM10 ------------------------------------------------------------------------------------------\n",
      "First Quartertile: 0.0 . Third Quartile:  0.0 .Interquartile Range:  0.0\n",
      "PM25 ------------------------------------------------------------------------------------------\n",
      "First Quartertile: 0.0 . Third Quartile:  0.2 .Interquartile Range:  0.2\n",
      "PM01 ------------------------------------------------------------------------------------------\n",
      "First Quartertile: 0.0 . Third Quartile:  0.1 .Interquartile Range:  0.1\n",
      "HCHO ------------------------------------------------------------------------------------------\n",
      "First Quartertile: 3.7 . Third Quartile:  13.3 .Interquartile Range:  9.600000000000001\n",
      "NO2 ------------------------------------------------------------------------------------------\n",
      "First Quartertile: 0.0 . Third Quartile:  31.6 .Interquartile Range:  31.6\n",
      "O3 ------------------------------------------------------------------------------------------\n",
      "First Quartertile: 18.6 . Third Quartile:  20.0 .Interquartile Range:  1.3999999999999986\n",
      "NH3 ------------------------------------------------------------------------------------------\n",
      "First Quartertile: 0.0 . Third Quartile:  22.9 .Interquartile Range:  22.9\n",
      "Temp ------------------------------------------------------------------------------------------\n",
      "First Quartertile: 20.4 . Third Quartile:  23.6 .Interquartile Range:  3.200000000000003\n",
      "RH ------------------------------------------------------------------------------------------\n",
      "First Quartertile: 27.9 . Third Quartile:  45.2 .Interquartile Range:  17.300000000000004\n",
      "<class 'pandas.core.frame.DataFrame'>\n",
      "Index: 957826 entries, 0 to 1048574\n",
      "Data columns (total 4 columns):\n",
      " #   Column         Non-Null Count   Dtype  \n",
      "---  ------         --------------   -----  \n",
      " 0   device_id      957826 non-null  int64  \n",
      " 1   date           957826 non-null  object \n",
      " 2   value_type_id  957826 non-null  int64  \n",
      " 3   value          957826 non-null  float64\n",
      "dtypes: float64(1), int64(2), object(1)\n",
      "memory usage: 36.5+ MB\n"
     ]
    }
   ],
   "source": [
    "processed_df = readings_df \n",
    "for k, v in readings_df.groupby('value_type_id'):\n",
    "    print(reading_types_df.at[k - 1, 'reading_type_name'],'-'*90)\n",
    "    outliers = detect_outliers(v, 1, ['value'])\n",
    "    processed_df = processed_df.drop(outliers, axis = 0) \n",
    "\n",
    "processed_df.info()"
   ]
  },
  {
   "cell_type": "markdown",
   "metadata": {},
   "source": [
    "### Merging devices with sampled readings"
   ]
  },
  {
   "cell_type": "code",
   "execution_count": 5,
   "metadata": {},
   "outputs": [],
   "source": [
    "# merging devices with sampleled readings\n",
    "\n",
    "merged_df = pd.merge(processed_df, devices_df, on='device_id', how='inner')\n",
    "merged_df = merged_df.drop('device_id', axis = 1)"
   ]
  },
  {
   "cell_type": "markdown",
   "metadata": {},
   "source": [
    "### Have aggregate value_types with the same hour"
   ]
  },
  {
   "cell_type": "code",
   "execution_count": 6,
   "metadata": {},
   "outputs": [],
   "source": [
    "# merged_df['date'] = pd.to_datetime(merged_df['date'])\n",
    "# merged_df['date'] = merged_df['date'].dt.floor('H')\n",
    "\n",
    "# aggregate_function = {'value': 'mean'}\n",
    "# aggregate_df = merged_df.groupby(['building_id', 'date', 'value_type_id']).agg(aggregate_function)\n",
    "\n",
    "\n",
    "# #pivot table so that value_type_id is a column \n",
    "# pivot_df = pd.pivot_table(aggregate_df, values = 'value', index = ['date', 'building_id'], columns = 'value_type_id').reset_index()  \n",
    "# pivot_df = pivot_df.rename_axis(None).rename_axis(None, axis=1)\n",
    "# pivot_df.info()"
   ]
  },
  {
   "cell_type": "markdown",
   "metadata": {},
   "source": [
    "### Downsampling readings to hour"
   ]
  },
  {
   "cell_type": "code",
   "execution_count": 7,
   "metadata": {},
   "outputs": [],
   "source": [
    "# pivot_df = pivot_df.sort_values(by = 'date')\n",
    "\n",
    "# resampled_df = pd.DataFrame()\n",
    "\n",
    "# def my_interp(x):\n",
    "#     if x.notnull().sum() > 1:\n",
    "#         return x.interpolate(method='nearest').ffill().bfill()\n",
    "#     else:\n",
    "#         return x.ffill().bfill()\n",
    "    \n",
    "# for building, df in pivot_df.groupby('building_id'):\n",
    "#     df = df.sort_values(by = 'date')\n",
    "#     # resampled = df.resample('60min', on = 'date', label = 'left').mean() \n",
    "#     # resampled ['date'] = resampled.index.values\n",
    "#     resampled = df.interpolate(method='linear', axis=0).ffill().bfill()\n",
    "#     resampled_df = pd.concat([resampled_df, resampled], ignore_index = True)\n",
    "\n",
    "# resampled_df.info()\n",
    "# print(resampled_df.head(100))\n",
    "# resampled_df = resampled_df.sort_values(by = 'date')\n",
    "# # resampled_df.to_csv('googoogagag.csv')"
   ]
  },
  {
   "cell_type": "code",
   "execution_count": 8,
   "metadata": {},
   "outputs": [
    {
     "data": {
      "text/plain": [
       "0          1\n",
       "1          1\n",
       "2          0\n",
       "3          1\n",
       "4          1\n",
       "          ..\n",
       "1048569    1\n",
       "1048570    0\n",
       "1048571    1\n",
       "1048573    1\n",
       "1048574    0\n",
       "Name: work_hours, Length: 957826, dtype: int64"
      ]
     },
     "execution_count": 8,
     "metadata": {},
     "output_type": "execute_result"
    }
   ],
   "source": [
    "# hour_mapping (1 if between 8am and 6pm)\n",
    "# merged_df = processed_df\n",
    "merged_df['date'] = pd.to_datetime(merged_df['date'])\n",
    "\n",
    "merged_df['work_hours'] = merged_df['date'].dt.hour.between(8, 18)\n",
    "merged_df['work_hours'].map({True: 1, False: 0})\n"
   ]
  },
  {
   "cell_type": "code",
   "execution_count": 9,
   "metadata": {},
   "outputs": [
    {
     "name": "stdout",
     "output_type": "stream",
     "text": [
      "<class 'pandas.core.frame.DataFrame'>\n",
      "Index: 957826 entries, 0 to 1048574\n",
      "Data columns (total 6 columns):\n",
      " #   Column         Non-Null Count   Dtype         \n",
      "---  ------         --------------   -----         \n",
      " 0   device_id      957826 non-null  int64         \n",
      " 1   date           957826 non-null  datetime64[ns]\n",
      " 2   value_type_id  957826 non-null  int64         \n",
      " 3   value          957826 non-null  float64       \n",
      " 4   work_hours     957826 non-null  bool          \n",
      " 5   day type       957826 non-null  int64         \n",
      "dtypes: bool(1), datetime64[ns](1), float64(1), int64(3)\n",
      "memory usage: 44.8 MB\n"
     ]
    }
   ],
   "source": [
    "# day of week mapping (1 weekday, 0 weekend)\n",
    "\n",
    "merged_df['day type'] = merged_df['date'].dt.dayofweek.map({\n",
    "    0: 1,\n",
    "    1: 1,\n",
    "    2: 1,\n",
    "    3: 1,\n",
    "    4: 1,\n",
    "    5: 0, \n",
    "    6: 0\n",
    "})\n",
    "\n",
    "merged_df.info()"
   ]
  },
  {
   "cell_type": "code",
   "execution_count": 10,
   "metadata": {},
   "outputs": [],
   "source": [
    "# season mapping\n",
    "\n",
    "merged_df['season'] = merged_df['date'].dt.month.map({\n",
    "    1: 'Winter',\n",
    "    2: 'Winter',\n",
    "    3: 'Spring',\n",
    "    4: 'Spring',\n",
    "    5: 'Spring',\n",
    "    6: 'Summer',\n",
    "    7: 'Summer',\n",
    "    8: 'Summer',\n",
    "    9: 'Fall',\n",
    "    10: 'Fall',\n",
    "    11: 'Fall',\n",
    "    12: 'Winter'\n",
    "})\n",
    "\n",
    "season_encoder = pd.get_dummies(merged_df['season'])\n",
    "merged_df = merged_df.join(season_encoder)\n",
    "merged_df = merged_df.drop('season', axis = 1)"
   ]
  },
  {
   "cell_type": "code",
   "execution_count": 11,
   "metadata": {},
   "outputs": [],
   "source": [
    "def get_trimester_day(row): \n",
    "    dt = (row['date']).date()\n",
    "    if 3 <= dt.month <= 5:\n",
    "        return (dt - date(year=dt.year, month=3, day=1)) # Spring\n",
    "    elif 6 <= dt.month <= 8:\n",
    "        return (dt - date(year=dt.year, month=6, day=1))  # Summer\n",
    "    elif 9 <= dt.month <= 11:\n",
    "        return (dt - date(year=dt.year, month=9, day=1))  # Autumn\n",
    "    else:\n",
    "        if(dt.month == 12): \n",
    "            return (dt - date(year=dt.year, month=12, day=1))\n",
    "        return (dt - date(year=dt.year - 1, month=12, day=1))  # Winter\n",
    "    \n",
    "merged_df['trimester_day'] = merged_df.apply(get_trimester_day, axis = 1)\n",
    "merged_df['trimester_day'] = merged_df['trimester_day'].dt.days\n"
   ]
  },
  {
   "cell_type": "code",
   "execution_count": 12,
   "metadata": {},
   "outputs": [
    {
     "name": "stdout",
     "output_type": "stream",
     "text": [
      "<class 'pandas.core.frame.DataFrame'>\n",
      "Index: 957826 entries, 0 to 1048574\n",
      "Data columns (total 12 columns):\n",
      " #   Column         Non-Null Count   Dtype         \n",
      "---  ------         --------------   -----         \n",
      " 0   device_id      957826 non-null  int64         \n",
      " 1   date           957826 non-null  datetime64[ns]\n",
      " 2   value_type_id  957826 non-null  int64         \n",
      " 3   value          957826 non-null  float64       \n",
      " 4   work_hours     957826 non-null  bool          \n",
      " 5   day type       957826 non-null  int64         \n",
      " 6   Fall           957826 non-null  bool          \n",
      " 7   Spring         957826 non-null  bool          \n",
      " 8   Summer         957826 non-null  bool          \n",
      " 9   Winter         957826 non-null  bool          \n",
      " 10  trimester_day  957826 non-null  int64         \n",
      " 11  working_hour   957826 non-null  int64         \n",
      "dtypes: bool(5), datetime64[ns](1), float64(1), int64(5)\n",
      "memory usage: 95.3 MB\n"
     ]
    }
   ],
   "source": [
    "def get_working_hour(row): \n",
    "    dt = (row['date']) \n",
    "    return dt.hour - 8\n",
    "\n",
    "merged_df['working_hour'] = merged_df.apply(get_working_hour, axis = 1)\n",
    "# merged_df = merged_df.fillna(0\n",
    "merged_df.info()"
   ]
  },
  {
   "cell_type": "code",
   "execution_count": 13,
   "metadata": {},
   "outputs": [],
   "source": [
    "merged_df.to_csv('unmerged_buildings.csv')"
   ]
  },
  {
   "cell_type": "markdown",
   "metadata": {},
   "source": [
    "### Building Encoder"
   ]
  },
  {
   "cell_type": "code",
   "execution_count": 14,
   "metadata": {},
   "outputs": [],
   "source": [
    "building_encoder = pd.get_dummies(merged_df['building_id'], prefix  = 'building')\n",
    "merged_df = merged_df.join(building_encoder)\n",
    "merged_df = merged_df.drop('building_id', axis = 1) \n",
    "\n",
    "# device_encoder = pd.get_dummies(mergedDf['device_id'], prefix = 'device')\n",
    "# mergedDf = mergedDf.join(device_encoder) don't know if this matters as much "
   ]
  },
  {
   "cell_type": "markdown",
   "metadata": {},
   "source": [
    "#### IMPORTANT: uncomment the line highlighted if you do not have preprocessed.csv, use this in the model.ipynb (so we stop working on same file)"
   ]
  },
  {
   "cell_type": "code",
   "execution_count": 15,
   "metadata": {},
   "outputs": [],
   "source": [
    "merged_df.to_csv('preprocessed.csv') # <-- COMMENT THIS OUT IF YOU DON'T HAVE preprocessd.csv yet "
   ]
  },
  {
   "cell_type": "code",
   "execution_count": 16,
   "metadata": {},
   "outputs": [],
   "source": [
    "# seperate into RH + temp and others\n",
    "df_11_12 = readings_df[readings_df['value_type_id'].isin([11, 12])]\n",
    "df_other = readings_df[~readings_df['value_type_id'].isin([11, 12])]"
   ]
  },
  {
   "cell_type": "code",
   "execution_count": 17,
   "metadata": {},
   "outputs": [],
   "source": [
    "#nomalize categories\n",
    "# df_11_12 = pd.get_dummies(df_11_12, columns=['season'])\n",
    "# df_other = pd.get_dummies(df_other, columns=['season'])"
   ]
  },
  {
   "cell_type": "code",
   "execution_count": 18,
   "metadata": {},
   "outputs": [
    {
     "name": "stdout",
     "output_type": "stream",
     "text": [
      "<class 'pandas.core.frame.DataFrame'>\n",
      "Index: 409 entries, 6 to 5044\n",
      "Data columns (total 4 columns):\n",
      " #   Column         Non-Null Count  Dtype  \n",
      "---  ------         --------------  -----  \n",
      " 0   device_id      409 non-null    int64  \n",
      " 1   date           409 non-null    object \n",
      " 2   value_type_id  409 non-null    int64  \n",
      " 3   value          409 non-null    float64\n",
      "dtypes: float64(1), int64(2), object(1)\n",
      "memory usage: 16.0+ KB\n"
     ]
    },
    {
     "data": {
      "text/plain": [
       "<function matplotlib.pyplot.show(close=None, block=None)>"
      ]
     },
     "execution_count": 18,
     "metadata": {},
     "output_type": "execute_result"
    },
    {
     "data": {
      "image/png": "[encoded data removed]",
      "text/plain": [
       "<Figure size 640x480 with 1 Axes>"
      ]
     },
     "metadata": {},
     "output_type": "display_data"
    }
   ],
   "source": [
    "#to filter value_type_id and device_id\n",
    "filtered_df = readings_df[(readings_df['value_type_id'] == 11) & (readings_df['device_id'] == 1)]\n",
    "\n",
    "filtered_df.info()\n",
    "\n",
    "start_date = '2023-8-01'\n",
    "end_date = '2023-8-31'\n",
    "filtered_df = filtered_df[(filtered_df['date'] >= start_date) & (filtered_df['date'] <= end_date)]\n",
    "\n",
    "# scatter for >1 day\n",
    "plt.scatter(filtered_df['date'], filtered_df['value'], marker='.')\n",
    "plt.gca().xaxis.set_major_formatter(mdates.DateFormatter('%d'))\n",
    "\n",
    "\n",
    "# scatter for <1 day\n",
    "# plt.scatter(filtered_df['date'].dt.hour + filtered_df['date'].dt.minute / 60, filtered_df['value'], marker='.')\n",
    "\n",
    "\n",
    "plt.show\n",
    "\n"
   ]
  },
  {
   "cell_type": "code",
   "execution_count": 19,
   "metadata": {},
   "outputs": [
    {
     "name": "stdout",
     "output_type": "stream",
     "text": [
      "<class 'pandas.core.frame.DataFrame'>\n",
      "Index: 0 entries\n",
      "Data columns (total 4 columns):\n",
      " #   Column         Non-Null Count  Dtype  \n",
      "---  ------         --------------  -----  \n",
      " 0   device_id      0 non-null      int64  \n",
      " 1   date           0 non-null      object \n",
      " 2   value_type_id  0 non-null      int64  \n",
      " 3   value          0 non-null      float64\n",
      "dtypes: float64(1), int64(2), object(1)\n",
      "memory usage: 0.0+ bytes\n"
     ]
    },
    {
     "ename": "ValueError",
     "evalue": "zero-size array to reduction operation maximum which has no identity",
     "output_type": "error",
     "traceback": [
      "\u001b[1;31m---------------------------------------------------------------------------\u001b[0m",
      "\u001b[1;31mValueError\u001b[0m                                Traceback (most recent call last)",
      "Cell \u001b[1;32mIn[19], line 8\u001b[0m\n\u001b[0;32m      5\u001b[0m test_series_data \u001b[38;5;241m=\u001b[39m filtered_df[[\u001b[38;5;124m'\u001b[39m\u001b[38;5;124mvalue\u001b[39m\u001b[38;5;124m'\u001b[39m]]\n\u001b[0;32m      6\u001b[0m test_series_data\u001b[38;5;241m.\u001b[39mindex \u001b[38;5;241m=\u001b[39m pd\u001b[38;5;241m.\u001b[39mto_datetime(filtered_df[\u001b[38;5;124m'\u001b[39m\u001b[38;5;124mdate\u001b[39m\u001b[38;5;124m'\u001b[39m])\n\u001b[1;32m----> 8\u001b[0m results \u001b[38;5;241m=\u001b[39m \u001b[43madfuller\u001b[49m\u001b[43m(\u001b[49m\u001b[43mtest_series_data\u001b[49m\u001b[43m)\u001b[49m\n\u001b[0;32m     10\u001b[0m \u001b[38;5;28mprint\u001b[39m(\u001b[38;5;124m'\u001b[39m\u001b[38;5;124mTest Statistic:\u001b[39m\u001b[38;5;124m'\u001b[39m, results[\u001b[38;5;241m0\u001b[39m])\n\u001b[0;32m     11\u001b[0m \u001b[38;5;28mprint\u001b[39m(\u001b[38;5;124m'\u001b[39m\u001b[38;5;124mP-Value:\u001b[39m\u001b[38;5;124m'\u001b[39m, results[\u001b[38;5;241m1\u001b[39m])\n",
      "File \u001b[1;32mc:\\Users\\Thomas\\AppData\\Local\\Programs\\Python\\Python311\\Lib\\site-packages\\statsmodels\\tsa\\stattools.py:274\u001b[0m, in \u001b[0;36madfuller\u001b[1;34m(x, maxlag, regression, autolag, store, regresults)\u001b[0m\n\u001b[0;32m    271\u001b[0m store \u001b[38;5;241m=\u001b[39m bool_like(store, \u001b[38;5;124m\"\u001b[39m\u001b[38;5;124mstore\u001b[39m\u001b[38;5;124m\"\u001b[39m)\n\u001b[0;32m    272\u001b[0m regresults \u001b[38;5;241m=\u001b[39m bool_like(regresults, \u001b[38;5;124m\"\u001b[39m\u001b[38;5;124mregresults\u001b[39m\u001b[38;5;124m\"\u001b[39m)\n\u001b[1;32m--> 274\u001b[0m \u001b[38;5;28;01mif\u001b[39;00m \u001b[43mx\u001b[49m\u001b[38;5;241;43m.\u001b[39;49m\u001b[43mmax\u001b[49m\u001b[43m(\u001b[49m\u001b[43m)\u001b[49m \u001b[38;5;241m==\u001b[39m x\u001b[38;5;241m.\u001b[39mmin():\n\u001b[0;32m    275\u001b[0m     \u001b[38;5;28;01mraise\u001b[39;00m \u001b[38;5;167;01mValueError\u001b[39;00m(\u001b[38;5;124m\"\u001b[39m\u001b[38;5;124mInvalid input, x is constant\u001b[39m\u001b[38;5;124m\"\u001b[39m)\n\u001b[0;32m    277\u001b[0m \u001b[38;5;28;01mif\u001b[39;00m regresults:\n",
      "File \u001b[1;32mc:\\Users\\Thomas\\AppData\\Local\\Programs\\Python\\Python311\\Lib\\site-packages\\numpy\\core\\_methods.py:41\u001b[0m, in \u001b[0;36m_amax\u001b[1;34m(a, axis, out, keepdims, initial, where)\u001b[0m\n\u001b[0;32m     39\u001b[0m \u001b[38;5;28;01mdef\u001b[39;00m \u001b[38;5;21m_amax\u001b[39m(a, axis\u001b[38;5;241m=\u001b[39m\u001b[38;5;28;01mNone\u001b[39;00m, out\u001b[38;5;241m=\u001b[39m\u001b[38;5;28;01mNone\u001b[39;00m, keepdims\u001b[38;5;241m=\u001b[39m\u001b[38;5;28;01mFalse\u001b[39;00m,\n\u001b[0;32m     40\u001b[0m           initial\u001b[38;5;241m=\u001b[39m_NoValue, where\u001b[38;5;241m=\u001b[39m\u001b[38;5;28;01mTrue\u001b[39;00m):\n\u001b[1;32m---> 41\u001b[0m     \u001b[38;5;28;01mreturn\u001b[39;00m umr_maximum(a, axis, \u001b[38;5;28;01mNone\u001b[39;00m, out, keepdims, initial, where)\n",
      "\u001b[1;31mValueError\u001b[0m: zero-size array to reduction operation maximum which has no identity"
     ]
    }
   ],
   "source": [
    "# Augmented Dickey-Fuller test\n",
    "# determines if a series is stationary\n",
    "filtered_df.info()\n",
    "\n",
    "test_series_data = filtered_df[['value']]\n",
    "test_series_data.index = pd.to_datetime(filtered_df['date'])\n",
    "\n",
    "results = adfuller(test_series_data)\n",
    "\n",
    "print('Test Statistic:', results[0])\n",
    "print('P-Value:', results[1])\n"
   ]
  }
 ],
 "metadata": {
  "kernelspec": {
   "display_name": "Python 3",
   "language": "python",
   "name": "python3"
  },
  "language_info": {
   "codemirror_mode": {
    "name": "ipython",
    "version": 3
   },
   "file_extension": ".py",
   "mimetype": "text/x-python",
   "name": "python",
   "nbconvert_exporter": "python",
   "pygments_lexer": "ipython3",
   "version": "3.11.4"
  }
 },
 "nbformat": 4,
 "nbformat_minor": 2
}
