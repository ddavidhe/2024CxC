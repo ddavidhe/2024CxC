{
 "cells": [
  {
   "cell_type": "code",
   "execution_count": 1,
   "metadata": {},
   "outputs": [
    {
     "name": "stderr",
     "output_type": "stream",
     "text": [
      "/var/folders/sv/b643fd993ml6d9g_v9klf5mh0000gn/T/ipykernel_49996/3126906956.py:1: DeprecationWarning: \n",
      "Pyarrow will become a required dependency of pandas in the next major release of pandas (pandas 3.0),\n",
      "(to allow more performant data types, such as the Arrow string type, and better interoperability with other libraries)\n",
      "but was not found to be installed on your system.\n",
      "If this would cause problems for you,\n",
      "please provide us feedback at https://github.com/pandas-dev/pandas/issues/54466\n",
      "        \n",
      "  import pandas as pd\n"
     ]
    }
   ],
   "source": [
    "import pandas as pd\n",
    "import numpy as np\n",
    "import matplotlib.pyplot as plt\n",
    "import matplotlib.dates as mdates\n",
    "import seaborn as sns\n",
    "from sklearn.preprocessing import StandardScaler\n",
    "import pathlib \n",
    "import os\n",
    "import joblib\n",
    "\n",
    "from statsmodels.tsa.statespace.sarimax import SARIMAX\n",
    "from statsmodels.graphics.tsaplots import plot_acf, plot_pacf\n",
    "from statsmodels.tsa.stattools import adfuller  \n",
    "from sklearn.model_selection import train_test_split\n",
    "from sklearn.metrics import mean_squared_error\n",
    "\n",
    "from collections import Counter\n",
    "from datetime import date \n",
    "import datetime\n"
   ]
  },
  {
   "cell_type": "code",
   "execution_count": 2,
   "metadata": {},
   "outputs": [],
   "source": [
    "cur_path  = os.getcwd()\n",
    "\n",
    "devices_df = pd.read_csv(cur_path + '/devices.csv')\n",
    "readings_df = pd.read_csv(cur_path + '/sampled_readings.csv')\n",
    "reading_types_df = pd.read_csv(cur_path + '/reading_types.csv')"
   ]
  },
  {
   "cell_type": "markdown",
   "metadata": {},
   "source": [
    "### Outlier Detection Using IQR"
   ]
  },
  {
   "cell_type": "code",
   "execution_count": 3,
   "metadata": {},
   "outputs": [],
   "source": [
    "def detect_outliers(df,n,features):\n",
    "    \"\"\"\n",
    "    Takes a dataframe df of features and returns a list of the indices\n",
    "    corresponding to the observations containing more than n outliers according\n",
    "    to the Tukey method.\n",
    "    \"\"\"\n",
    "    outlier_indices = []\n",
    "    \n",
    "    # iterate over features(columns)\n",
    "    for col in features:\n",
    "        # 1st quartile (25%)\n",
    "        Q1 = np.nanpercentile(df[col], 25)\n",
    "        # 3rd quartile (75%)\n",
    "        Q3 = np.nanpercentile(df[col],75)\n",
    "        # Interquartile range (IQR)\n",
    "        IQR = Q3 - Q1\n",
    "        print(\"First Quartertile:\", Q1, \". Third Quartile: \", Q3, \".Interquartile Range: \", IQR)\n",
    "        # outlier step\n",
    "        outlier_step = 1.5 * IQR\n",
    "        \n",
    "        # Determine a list of indices of outliers for feature col\n",
    "        outlier_list_col = df[(df[col] < Q1 - outlier_step) | (df[col] > Q3 + outlier_step )].index\n",
    "        \n",
    "        # append the found outlier indices for col to the list of outlier indices \n",
    "        outlier_indices.extend(outlier_list_col)\n",
    "        \n",
    "    outlier_indices = Counter(outlier_indices)        \n",
    "    multiple_outliers = list( k for k, v in outlier_indices.items() if v >= n )\n",
    "    \n",
    "    return multiple_outliers   "
   ]
  },
  {
   "cell_type": "code",
   "execution_count": 4,
   "metadata": {},
   "outputs": [
    {
     "name": "stdout",
     "output_type": "stream",
     "text": [
      "CO2 ------------------------------------------------------------------------------------------\n",
      "First Quartertile: 428.0 . Third Quartile:  564.8 .Interquartile Range:  136.79999999999995\n",
      "CO ------------------------------------------------------------------------------------------\n",
      "First Quartertile: 0.0 . Third Quartile:  1.7 .Interquartile Range:  1.7\n",
      "TVOC ------------------------------------------------------------------------------------------\n",
      "First Quartertile: 31.0 . Third Quartile:  249.0 .Interquartile Range:  218.0\n",
      "PM10 ------------------------------------------------------------------------------------------\n",
      "First Quartertile: 0.0 . Third Quartile:  0.0 .Interquartile Range:  0.0\n",
      "PM25 ------------------------------------------------------------------------------------------\n",
      "First Quartertile: 0.0 . Third Quartile:  0.2 .Interquartile Range:  0.2\n",
      "PM01 ------------------------------------------------------------------------------------------\n",
      "First Quartertile: 0.0 . Third Quartile:  0.1 .Interquartile Range:  0.1\n",
      "HCHO ------------------------------------------------------------------------------------------\n",
      "First Quartertile: 3.8 . Third Quartile:  13.2 .Interquartile Range:  9.399999999999999\n",
      "NO2 ------------------------------------------------------------------------------------------\n",
      "First Quartertile: 0.0 . Third Quartile:  31.7 .Interquartile Range:  31.7\n",
      "O3 ------------------------------------------------------------------------------------------\n",
      "First Quartertile: 18.6 . Third Quartile:  20.0 .Interquartile Range:  1.3999999999999986\n",
      "NH3 ------------------------------------------------------------------------------------------\n",
      "First Quartertile: 0.0 . Third Quartile:  23.0 .Interquartile Range:  23.0\n",
      "Temp ------------------------------------------------------------------------------------------\n",
      "First Quartertile: 20.4 . Third Quartile:  23.6 .Interquartile Range:  3.200000000000003\n",
      "RH ------------------------------------------------------------------------------------------\n",
      "First Quartertile: 27.9 . Third Quartile:  45.1 .Interquartile Range:  17.200000000000003\n",
      "<class 'pandas.core.frame.DataFrame'>\n",
      "Index: 35630376 entries, 1 to 39004223\n",
      "Data columns (total 4 columns):\n",
      " #   Column         Dtype  \n",
      "---  ------         -----  \n",
      " 0   device_id      int64  \n",
      " 1   date           object \n",
      " 2   value_type_id  int64  \n",
      " 3   value          float64\n",
      "dtypes: float64(1), int64(2), object(1)\n",
      "memory usage: 1.3+ GB\n"
     ]
    }
   ],
   "source": [
    "processed_df = readings_df \n",
    "for k, v in readings_df.groupby('value_type_id'):\n",
    "    print(reading_types_df.at[k - 1, 'reading_type_name'],'-'*90)\n",
    "    outliers = detect_outliers(v, 1, ['value'])\n",
    "    processed_df = processed_df.drop(outliers, axis = 0) \n",
    "\n",
    "processed_df.info()"
   ]
  },
  {
   "cell_type": "markdown",
   "metadata": {},
   "source": [
    "### Merging devices with sampled readings"
   ]
  },
  {
   "cell_type": "code",
   "execution_count": 5,
   "metadata": {},
   "outputs": [],
   "source": [
    "#merging devices with sampleled readings\n",
    "\n",
    "merged_df = pd.merge(processed_df, devices_df, on='device_id', how='inner')\n",
    "merged_df = merged_df.drop('device_id', axis = 1)"
   ]
  },
  {
   "cell_type": "markdown",
   "metadata": {},
   "source": [
    "### Have aggregate value_types with the same hour"
   ]
  },
  {
   "cell_type": "code",
   "execution_count": 6,
   "metadata": {},
   "outputs": [
    {
     "name": "stderr",
     "output_type": "stream",
     "text": [
      "/var/folders/sv/b643fd993ml6d9g_v9klf5mh0000gn/T/ipykernel_49996/573654935.py:2: FutureWarning: 'H' is deprecated and will be removed in a future version, please use 'h' instead.\n",
      "  merged_df['date'] = merged_df['date'].dt.floor('H')\n"
     ]
    },
    {
     "name": "stdout",
     "output_type": "stream",
     "text": [
      "<class 'pandas.core.frame.DataFrame'>\n",
      "RangeIndex: 168254 entries, 0 to 168253\n",
      "Data columns (total 14 columns):\n",
      " #   Column       Non-Null Count   Dtype         \n",
      "---  ------       --------------   -----         \n",
      " 0   date         168254 non-null  datetime64[ns]\n",
      " 1   building_id  168254 non-null  int64         \n",
      " 2   1            159665 non-null  float64       \n",
      " 3   2            163230 non-null  float64       \n",
      " 4   3            157071 non-null  float64       \n",
      " 5   4            137857 non-null  float64       \n",
      " 6   5            150672 non-null  float64       \n",
      " 7   6            151568 non-null  float64       \n",
      " 8   7            157086 non-null  float64       \n",
      " 9   8            51631 non-null   float64       \n",
      " 10  9            159798 non-null  float64       \n",
      " 11  10           95052 non-null   float64       \n",
      " 12  11           156098 non-null  float64       \n",
      " 13  12           163030 non-null  float64       \n",
      "dtypes: datetime64[ns](1), float64(12), int64(1)\n",
      "memory usage: 18.0 MB\n"
     ]
    }
   ],
   "source": [
    "merged_df['date'] = pd.to_datetime(merged_df['date'])\n",
    "merged_df['date'] = merged_df['date'].dt.floor('H')\n",
    "\n",
    "aggregate_function = {'value': 'mean'}\n",
    "aggregate_df = merged_df.groupby(['building_id', 'date', 'value_type_id']).agg(aggregate_function)\n",
    "\n",
    "\n",
    "#pivot table so that value_type_id is a column \n",
    "pivot_df = pd.pivot_table(aggregate_df, values = 'value', index = ['date', 'building_id'], columns = 'value_type_id').reset_index()  \n",
    "pivot_df = pivot_df.rename_axis(None).rename_axis(None, axis=1)\n",
    "pivot_df.info()"
   ]
  },
  {
   "cell_type": "markdown",
   "metadata": {},
   "source": [
    "### Downsampling readings to hour"
   ]
  },
  {
   "cell_type": "code",
   "execution_count": 7,
   "metadata": {},
   "outputs": [
    {
     "name": "stdout",
     "output_type": "stream",
     "text": [
      "<class 'pandas.core.frame.DataFrame'>\n",
      "RangeIndex: 168254 entries, 0 to 168253\n",
      "Data columns (total 14 columns):\n",
      " #   Column       Non-Null Count   Dtype         \n",
      "---  ------       --------------   -----         \n",
      " 0   date         168254 non-null  datetime64[ns]\n",
      " 1   building_id  168254 non-null  int64         \n",
      " 2   1            168254 non-null  float64       \n",
      " 3   2            168254 non-null  float64       \n",
      " 4   3            168254 non-null  float64       \n",
      " 5   4            168254 non-null  float64       \n",
      " 6   5            168254 non-null  float64       \n",
      " 7   6            168254 non-null  float64       \n",
      " 8   7            168254 non-null  float64       \n",
      " 9   8            89800 non-null   float64       \n",
      " 10  9            166357 non-null  float64       \n",
      " 11  10           120614 non-null  float64       \n",
      " 12  11           168254 non-null  float64       \n",
      " 13  12           168254 non-null  float64       \n",
      "dtypes: datetime64[ns](1), float64(12), int64(1)\n",
      "memory usage: 18.0 MB\n",
      "                  date  building_id           1         2           3    4  \\\n",
      "0  2023-01-01 00:00:00            1  513.156250  0.817647   49.000000  0.0   \n",
      "1  2023-01-01 01:00:00            1  507.971429  0.816216   54.142857  0.0   \n",
      "2  2023-01-01 02:00:00            1  500.733333  0.788571   84.485714  0.0   \n",
      "3  2023-01-01 03:00:00            1  489.725000  0.790323   86.342857  0.0   \n",
      "4  2023-01-01 04:00:00            1  484.615385  0.792500   99.000000  0.0   \n",
      "..                 ...          ...         ...       ...         ...  ...   \n",
      "95 2023-01-04 23:00:00            1  570.848485  1.376667   80.213235  0.0   \n",
      "96 2023-01-05 00:00:00            1  560.837838  1.613889   99.808108  0.0   \n",
      "97 2023-01-05 01:00:00            1  552.027027  1.478378  116.712500  0.0   \n",
      "98 2023-01-05 02:00:00            1  523.970588  1.268571   89.840541  0.0   \n",
      "99 2023-01-05 03:00:00            1  521.210526  1.193548  121.868182  0.0   \n",
      "\n",
      "      5    6          7          8          9         10         11         12  \n",
      "0   0.0  0.0  14.357692  29.471429  19.894286  19.065000  25.625000  41.997059  \n",
      "1   0.0  0.0  14.344828  29.496552  19.902632  18.797368  25.609091  41.952500  \n",
      "2   0.0  0.0  14.359524  28.600000  19.882353  18.934146  25.417073  42.365854  \n",
      "3   0.0  0.0  14.360000  29.096000  19.880556  18.711765  25.400000  42.276667  \n",
      "4   0.0  0.0  14.496875  29.522222  19.881818  19.003333  25.696970  41.945238  \n",
      "..  ...  ...        ...        ...        ...        ...        ...        ...  \n",
      "95  0.0  0.0  14.750000  28.712500  19.893750  18.680952  24.866667  35.986111  \n",
      "96  0.0  0.0  15.350000  28.602857  19.880556  18.858065  23.850000  36.690323  \n",
      "97  0.0  0.0  17.533333  28.595349  19.875610  19.121875  24.175000  37.107500  \n",
      "98  0.0  0.0  23.262500  27.817241  19.876667  19.089474  23.266667  36.607500  \n",
      "99  0.0  0.0  25.332432  27.638710  19.875000  18.926471  24.166667  36.576190  \n",
      "\n",
      "[100 rows x 14 columns]\n"
     ]
    }
   ],
   "source": [
    "pivot_df = pivot_df.sort_values(by = 'date')\n",
    "\n",
    "resampled_df = pd.DataFrame()\n",
    "\n",
    "def my_interp(x):\n",
    "    if x.notnull().sum() > 1:\n",
    "        return x.interpolate(method='nearest').ffill().bfill()\n",
    "    else:\n",
    "        return x.ffill().bfill()\n",
    "    \n",
    "for building, df in pivot_df.groupby('building_id'):\n",
    "    df = df.sort_values(by = 'date')\n",
    "    # resampled = df.resample('60min', on = 'date', label = 'left').mean() \n",
    "    # resampled ['date'] = resampled.index.values\n",
    "    resampled = df.interpolate(method='linear', axis=0).ffill().bfill()\n",
    "    resampled_df = pd.concat([resampled_df, resampled], ignore_index = True)\n",
    "\n",
    "resampled_df.info()\n",
    "print(resampled_df.head(100))\n",
    "resampled_df = resampled_df.sort_values(by = 'date')\n",
    "# resampled_df.to_csv('googoogagag.csv')"
   ]
  },
  {
   "cell_type": "code",
   "execution_count": 8,
   "metadata": {},
   "outputs": [
    {
     "data": {
      "text/plain": [
       "0           0\n",
       "1           0\n",
       "2           0\n",
       "3           0\n",
       "4           1\n",
       "           ..\n",
       "39004219    1\n",
       "39004220    0\n",
       "39004221    0\n",
       "39004222    1\n",
       "39004223    0\n",
       "Name: work_hours, Length: 39004224, dtype: int64"
      ]
     },
     "execution_count": 8,
     "metadata": {},
     "output_type": "execute_result"
    }
   ],
   "source": [
    "# hour_mapping (1 if between 8am and 6pm)\n",
    "\n",
    "readings_df['date'] = pd.to_datetime(readings_df['date'])\n",
    "\n",
    "readings_df['work_hours'] = readings_df['date'].dt.hour.between(8, 18)\n",
    "readings_df['work_hours'].map({True: 1, False: 0})\n"
   ]
  },
  {
   "cell_type": "code",
   "execution_count": 9,
   "metadata": {},
   "outputs": [
    {
     "name": "stdout",
     "output_type": "stream",
     "text": [
      "<class 'pandas.core.frame.DataFrame'>\n",
      "Index: 168254 entries, 0 to 168253\n",
      "Data columns (total 15 columns):\n",
      " #   Column       Non-Null Count   Dtype         \n",
      "---  ------       --------------   -----         \n",
      " 0   date         168254 non-null  datetime64[ns]\n",
      " 1   building_id  168254 non-null  int64         \n",
      " 2   1            168254 non-null  float64       \n",
      " 3   2            168254 non-null  float64       \n",
      " 4   3            168254 non-null  float64       \n",
      " 5   4            168254 non-null  float64       \n",
      " 6   5            168254 non-null  float64       \n",
      " 7   6            168254 non-null  float64       \n",
      " 8   7            168254 non-null  float64       \n",
      " 9   8            89800 non-null   float64       \n",
      " 10  9            166357 non-null  float64       \n",
      " 11  10           120614 non-null  float64       \n",
      " 12  11           168254 non-null  float64       \n",
      " 13  12           168254 non-null  float64       \n",
      " 14  day type     168254 non-null  int64         \n",
      "dtypes: datetime64[ns](1), float64(12), int64(2)\n",
      "memory usage: 20.5 MB\n"
     ]
    }
   ],
   "source": [
    "# day of week mapping (1 weekday, 0 weekend)\n",
    "\n",
    "resampled_df['day type'] = resampled_df['date'].dt.dayofweek.map({\n",
    "    0: 1,\n",
    "    1: 1,\n",
    "    2: 1,\n",
    "    3: 1,\n",
    "    4: 1,\n",
    "    5: 0, \n",
    "    6: 0\n",
    "})\n",
    "\n",
    "resampled_df.info()"
   ]
  },
  {
   "cell_type": "code",
   "execution_count": 10,
   "metadata": {},
   "outputs": [],
   "source": [
    "# season mapping\n",
    "\n",
    "resampled_df['season'] = resampled_df['date'].dt.month.map({\n",
    "    1: 'Winter',\n",
    "    2: 'Winter',\n",
    "    3: 'Spring',\n",
    "    4: 'Spring',\n",
    "    5: 'Spring',\n",
    "    6: 'Summer',\n",
    "    7: 'Summer',\n",
    "    8: 'Summer',\n",
    "    9: 'Fall',\n",
    "    10: 'Fall',\n",
    "    11: 'Fall',\n",
    "    12: 'Winter'\n",
    "})\n",
    "\n",
    "season_encoder = pd.get_dummies(resampled_df['season'])\n",
    "resampled_df = resampled_df.join(season_encoder)\n",
    "resampled_df = resampled_df.drop('season', axis = 1)"
   ]
  },
  {
   "cell_type": "code",
   "execution_count": 11,
   "metadata": {},
   "outputs": [],
   "source": [
    "def get_trimester_day(row): \n",
    "    dt = (row['date']).date()\n",
    "    if 3 <= dt.month <= 5:\n",
    "        return (dt - date(year=dt.year, month=3, day=1)) # Spring\n",
    "    elif 6 <= dt.month <= 8:\n",
    "        return (dt - date(year=dt.year, month=6, day=1))  # Summer\n",
    "    elif 9 <= dt.month <= 11:\n",
    "        return (dt - date(year=dt.year, month=9, day=1))  # Autumn\n",
    "    else:\n",
    "        if(dt.month == 12): \n",
    "            return (dt - date(year=dt.year, month=12, day=1))\n",
    "        return (dt - date(year=dt.year - 1, month=12, day=1))  # Winter\n",
    "    \n",
    "resampled_df['trimester_day'] = resampled_df.apply(get_trimester_day, axis = 1)\n",
    "resampled_df['trimester_day'] = resampled_df['trimester_day'].dt.days\n"
   ]
  },
  {
   "cell_type": "code",
   "execution_count": 12,
   "metadata": {},
   "outputs": [
    {
     "name": "stdout",
     "output_type": "stream",
     "text": [
      "<class 'pandas.core.frame.DataFrame'>\n",
      "Index: 168254 entries, 0 to 168253\n",
      "Data columns (total 21 columns):\n",
      " #   Column         Non-Null Count   Dtype         \n",
      "---  ------         --------------   -----         \n",
      " 0   date           168254 non-null  datetime64[ns]\n",
      " 1   building_id    168254 non-null  int64         \n",
      " 2   1              168254 non-null  float64       \n",
      " 3   2              168254 non-null  float64       \n",
      " 4   3              168254 non-null  float64       \n",
      " 5   4              168254 non-null  float64       \n",
      " 6   5              168254 non-null  float64       \n",
      " 7   6              168254 non-null  float64       \n",
      " 8   7              168254 non-null  float64       \n",
      " 9   8              168254 non-null  float64       \n",
      " 10  9              168254 non-null  float64       \n",
      " 11  10             168254 non-null  float64       \n",
      " 12  11             168254 non-null  float64       \n",
      " 13  12             168254 non-null  float64       \n",
      " 14  day type       168254 non-null  int64         \n",
      " 15  Fall           168254 non-null  bool          \n",
      " 16  Spring         168254 non-null  bool          \n",
      " 17  Summer         168254 non-null  bool          \n",
      " 18  Winter         168254 non-null  bool          \n",
      " 19  trimester_day  168254 non-null  int64         \n",
      " 20  working_hour   168254 non-null  int64         \n",
      "dtypes: bool(4), datetime64[ns](1), float64(12), int64(4)\n",
      "memory usage: 27.8 MB\n"
     ]
    }
   ],
   "source": [
    "def get_working_hour(row): \n",
    "    dt = (row['date']) \n",
    "    return dt.hour - 8\n",
    "\n",
    "resampled_df['working_hour'] = resampled_df.apply(get_working_hour, axis = 1)\n",
    "resampled_df = resampled_df.fillna(0)\n",
    "resampled_df.info()"
   ]
  },
  {
   "cell_type": "markdown",
   "metadata": {},
   "source": [
    "### Building Encoder"
   ]
  },
  {
   "cell_type": "code",
   "execution_count": 13,
   "metadata": {},
   "outputs": [],
   "source": [
    "# final_df = resampled_df \n",
    "# building_encoder = pd.get_dummies(final_df['building_id'], prefix  = 'building')\n",
    "# final_df = final_df.join(building_encoder)\n",
    "# final_df = final_df.drop('building_id', axis = 1) \n",
    "\n",
    "# device_encoder = pd.get_dummies(mergedDf['device_id'], prefix = 'device')\n",
    "# mergedDf = mergedDf.join(device_encoder) don't know if this matters as much "
   ]
  },
  {
   "cell_type": "markdown",
   "metadata": {},
   "source": [
    "#### IMPORTANT: uncomment the line highlighted if you do not have preprocessed.csv, use this in the model.ipynb (so we stop working on same file)"
   ]
  },
  {
   "cell_type": "code",
   "execution_count": 14,
   "metadata": {},
   "outputs": [],
   "source": [
    "resampled_df.to_csv('preprocessed_lstm.csv') # <-- COMMENT THIS OUT IF YOU DON'T HAVE preprocessd.csv yet "
   ]
  },
  {
   "cell_type": "code",
   "execution_count": 15,
   "metadata": {},
   "outputs": [],
   "source": [
    "# seperate into RH + temp and others\n",
    "df_11_12 = readings_df[readings_df['value_type_id'].isin([11, 12])]\n",
    "df_other = readings_df[~readings_df['value_type_id'].isin([11, 12])]"
   ]
  },
  {
   "cell_type": "code",
   "execution_count": 16,
   "metadata": {},
   "outputs": [],
   "source": [
    "#nomalize categories\n",
    "# df_11_12 = pd.get_dummies(df_11_12, columns=['season'])\n",
    "# df_other = pd.get_dummies(df_other, columns=['season'])"
   ]
  },
  {
   "cell_type": "code",
   "execution_count": 17,
   "metadata": {},
   "outputs": [
    {
     "name": "stdout",
     "output_type": "stream",
     "text": [
      "<class 'pandas.core.frame.DataFrame'>\n",
      "Index: 15286 entries, 1935 to 39003033\n",
      "Data columns (total 5 columns):\n",
      " #   Column         Non-Null Count  Dtype         \n",
      "---  ------         --------------  -----         \n",
      " 0   device_id      15286 non-null  int64         \n",
      " 1   date           15286 non-null  datetime64[ns]\n",
      " 2   value_type_id  15286 non-null  int64         \n",
      " 3   value          15286 non-null  float64       \n",
      " 4   work_hours     15286 non-null  bool          \n",
      "dtypes: bool(1), datetime64[ns](1), float64(1), int64(2)\n",
      "memory usage: 612.0 KB\n"
     ]
    },
    {
     "data": {
      "text/plain": [
       "<function matplotlib.pyplot.show(close=None, block=None)>"
      ]
     },
     "execution_count": 17,
     "metadata": {},
     "output_type": "execute_result"
    },
    {
     "data": {
      "image/png": "[encoded data removed]",
      "text/plain": [
       "<Figure size 640x480 with 1 Axes>"
      ]
     },
     "metadata": {},
     "output_type": "display_data"
    }
   ],
   "source": [
    "#to filter value_type_id and device_id\n",
    "filtered_df = readings_df[(readings_df['value_type_id'] == 11) & (readings_df['device_id'] == 1)]\n",
    "\n",
    "filtered_df.info()\n",
    "\n",
    "start_date = '2023-8-01'\n",
    "end_date = '2023-8-31'\n",
    "filtered_df = filtered_df[(filtered_df['date'] >= start_date) & (filtered_df['date'] <= end_date)]\n",
    "\n",
    "# scatter for >1 day\n",
    "plt.scatter(filtered_df['date'], filtered_df['value'], marker='.')\n",
    "plt.gca().xaxis.set_major_formatter(mdates.DateFormatter('%d'))\n",
    "\n",
    "\n",
    "# scatter for <1 day\n",
    "# plt.scatter(filtered_df['date'].dt.hour + filtered_df['date'].dt.minute / 60, filtered_df['value'], marker='.')\n",
    "\n",
    "\n",
    "plt.show\n",
    "\n"
   ]
  },
  {
   "cell_type": "code",
   "execution_count": 18,
   "metadata": {},
   "outputs": [
    {
     "name": "stdout",
     "output_type": "stream",
     "text": [
      "<class 'pandas.core.frame.DataFrame'>\n",
      "Index: 1720 entries, 13517 to 38999838\n",
      "Data columns (total 5 columns):\n",
      " #   Column         Non-Null Count  Dtype         \n",
      "---  ------         --------------  -----         \n",
      " 0   device_id      1720 non-null   int64         \n",
      " 1   date           1720 non-null   datetime64[ns]\n",
      " 2   value_type_id  1720 non-null   int64         \n",
      " 3   value          1720 non-null   float64       \n",
      " 4   work_hours     1720 non-null   bool          \n",
      "dtypes: bool(1), datetime64[ns](1), float64(1), int64(2)\n",
      "memory usage: 68.9 KB\n",
      "Test Statistic: -22.54549152601055\n",
      "P-Value: 0.0\n"
     ]
    }
   ],
   "source": [
    "# Augmented Dickey-Fuller test\n",
    "# determines if a series is stationary\n",
    "filtered_df.info()\n",
    "\n",
    "test_series_data = filtered_df[['value']]\n",
    "test_series_data.index = pd.to_datetime(filtered_df['date'])\n",
    "\n",
    "results = adfuller(test_series_data)\n",
    "\n",
    "print('Test Statistic:', results[0])\n",
    "print('P-Value:', results[1])\n"
   ]
  }
 ],
 "metadata": {
  "kernelspec": {
   "display_name": "Python 3",
   "language": "python",
   "name": "python3"
  },
  "language_info": {
   "codemirror_mode": {
    "name": "ipython",
    "version": 3
   },
   "file_extension": ".py",
   "mimetype": "text/x-python",
   "name": "python",
   "nbconvert_exporter": "python",
   "pygments_lexer": "ipython3",
   "version": "3.12.2"
  }
 },
 "nbformat": 4,
 "nbformat_minor": 2
}
