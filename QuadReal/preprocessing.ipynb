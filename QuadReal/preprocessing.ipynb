{
 "cells": [
  {
   "cell_type": "code",
   "execution_count": 83,
   "metadata": {},
   "outputs": [],
   "source": [
    "import pandas as pd\n",
    "import numpy as np\n",
    "import matplotlib.pyplot as plt\n",
    "import matplotlib.dates as mdates\n",
    "import seaborn as sns\n",
    "from sklearn.preprocessing import StandardScaler\n",
    "import pathlib \n",
    "import os\n",
    "import joblib\n",
    "\n",
    "from statsmodels.tsa.statespace.sarimax import SARIMAX\n",
    "from statsmodels.graphics.tsaplots import plot_acf, plot_pacf\n",
    "from statsmodels.tsa.stattools import adfuller  \n",
    "from sklearn.model_selection import train_test_split\n",
    "from sklearn.metrics import mean_squared_error\n",
    "\n",
    "from collections import Counter\n",
    "from datetime import date \n"
   ]
  },
  {
   "cell_type": "code",
   "execution_count": 84,
   "metadata": {},
   "outputs": [],
   "source": [
    "cur_path  = os.getcwd()\n",
    "\n",
    "devices_df = pd.read_csv(cur_path + '/devices.csv')\n",
    "readings_df = pd.read_csv(cur_path + '/sampled_readings.csv')\n",
    "reading_types_df = pd.read_csv(cur_path + '/reading_types.csv')"
   ]
  },
  {
   "cell_type": "code",
   "execution_count": 85,
   "metadata": {},
   "outputs": [
    {
     "data": {
      "text/plain": [
       "0          1\n",
       "1          1\n",
       "2          0\n",
       "3          1\n",
       "4          1\n",
       "          ..\n",
       "1048570    0\n",
       "1048571    1\n",
       "1048572    1\n",
       "1048573    1\n",
       "1048574    0\n",
       "Name: work_hours, Length: 1048575, dtype: int64"
      ]
     },
     "execution_count": 85,
     "metadata": {},
     "output_type": "execute_result"
    }
   ],
   "source": [
    "# hour_mapping (1 if between 8am and 6pm)\n",
    "\n",
    "readings_df['date'] = pd.to_datetime(readings_df['date'])\n",
    "\n",
    "readings_df['work_hours'] = readings_df['date'].dt.hour.between(8, 18)\n",
    "readings_df['work_hours'].map({True: 1, False: 0})\n"
   ]
  },
  {
   "cell_type": "code",
   "execution_count": 86,
   "metadata": {},
   "outputs": [],
   "source": [
    "# season mapping\n",
    "\n",
    "readings_df['season'] = readings_df['date'].dt.month.map({\n",
    "    1: 'Winter',\n",
    "    2: 'Winter',\n",
    "    3: 'Spring',\n",
    "    4: 'Spring',\n",
    "    5: 'Spring',\n",
    "    6: 'Summer',\n",
    "    7: 'Summer',\n",
    "    8: 'Summer',\n",
    "    9: 'Fall',\n",
    "    10: 'Fall',\n",
    "    11: 'Fall',\n",
    "    12: 'Winter'\n",
    "})\n",
    "\n",
    "season_encoder = pd.get_dummies(readings_df['season'])\n",
    "readings_df = readings_df.join(season_encoder)\n",
    "readings_df = readings_df.drop('season', axis = 1)"
   ]
  },
  {
   "cell_type": "code",
   "execution_count": 87,
   "metadata": {},
   "outputs": [
    {
     "name": "stdout",
     "output_type": "stream",
     "text": [
      "<class 'pandas.core.frame.DataFrame'>\n",
      "RangeIndex: 1048575 entries, 0 to 1048574\n",
      "Data columns (total 10 columns):\n",
      " #   Column         Non-Null Count    Dtype         \n",
      "---  ------         --------------    -----         \n",
      " 0   device_id      1048575 non-null  int64         \n",
      " 1   date           1048575 non-null  datetime64[ns]\n",
      " 2   value_type_id  1048575 non-null  int64         \n",
      " 3   value          1048575 non-null  float64       \n",
      " 4   work_hours     1048575 non-null  bool          \n",
      " 5   Fall           1048575 non-null  bool          \n",
      " 6   Spring         1048575 non-null  bool          \n",
      " 7   Summer         1048575 non-null  bool          \n",
      " 8   Winter         1048575 non-null  bool          \n",
      " 9   day type       1048575 non-null  int64         \n",
      "dtypes: bool(5), datetime64[ns](1), float64(1), int64(3)\n",
      "memory usage: 45.0 MB\n"
     ]
    }
   ],
   "source": [
    "# day of week mapping (1 weekday, 0 weekend)\n",
    "\n",
    "readings_df['day type'] = readings_df['date'].dt.dayofweek.map({\n",
    "    0: 1,\n",
    "    1: 1,\n",
    "    2: 1,\n",
    "    3: 1,\n",
    "    4: 1,\n",
    "    5: 0, \n",
    "    6: 0\n",
    "})\n",
    "\n",
    "readings_df.info()"
   ]
  },
  {
   "cell_type": "code",
   "execution_count": null,
   "metadata": {},
   "outputs": [],
   "source": [
    "def get_trimester_day(row): \n",
    "    dt = (row['date']).date()\n",
    "    if 3 <= dt.month <= 5:\n",
    "        return (dt - date(year=dt.year, month=3, day=1)) # Spring\n",
    "    elif 6 <= dt.month <= 8:\n",
    "        return (dt - date(year=dt.year, month=6, day=1))  # Summer\n",
    "    elif 9 <= dt.month <= 11:\n",
    "        return (dt - date(year=dt.year, month=9, day=1))  # Autumn\n",
    "    else:\n",
    "        if(dt.month == 12): \n",
    "            return (dt - date(year=dt.year, month=12, day=1))\n",
    "        return (dt - date(year=dt.year - 1, month=12, day=1))  # Winter\n",
    "    \n",
    "readings_df['trimester_day'] = readings_df.apply(get_trimester_day, axis = 1)\n",
    "readings_df['trimester_day'] = readings_df['trimester_day'].dt.days\n"
   ]
  },
  {
   "cell_type": "markdown",
   "metadata": {},
   "source": [
    "### Outlier Detection Using IQR"
   ]
  },
  {
   "cell_type": "code",
   "execution_count": 88,
   "metadata": {},
   "outputs": [],
   "source": [
    "def detect_outliers(df,n,features):\n",
    "    \"\"\"\n",
    "    Takes a dataframe df of features and returns a list of the indices\n",
    "    corresponding to the observations containing more than n outliers according\n",
    "    to the Tukey method.\n",
    "    \"\"\"\n",
    "    outlier_indices = []\n",
    "    \n",
    "    # iterate over features(columns)\n",
    "    for col in features:\n",
    "        # 1st quartile (25%)\n",
    "        Q1 = np.nanpercentile(df[col], 25)\n",
    "        # 3rd quartile (75%)\n",
    "        Q3 = np.nanpercentile(df[col],75)\n",
    "        # Interquartile range (IQR)\n",
    "        IQR = Q3 - Q1\n",
    "        print(\"First Quartertile:\", Q1, \". Third Quartile: \", Q3, \".Interquartile Range: \", IQR)\n",
    "        # outlier step\n",
    "        outlier_step = 1.5 * IQR\n",
    "        \n",
    "        # Determine a list of indices of outliers for feature col\n",
    "        outlier_list_col = df[(df[col] < Q1 - outlier_step) | (df[col] > Q3 + outlier_step )].index\n",
    "        \n",
    "        # append the found outlier indices for col to the list of outlier indices \n",
    "        outlier_indices.extend(outlier_list_col)\n",
    "        \n",
    "    outlier_indices = Counter(outlier_indices)        \n",
    "    multiple_outliers = list( k for k, v in outlier_indices.items() if v >= n )\n",
    "    \n",
    "    return multiple_outliers   "
   ]
  },
  {
   "cell_type": "code",
   "execution_count": 89,
   "metadata": {},
   "outputs": [
    {
     "name": "stdout",
     "output_type": "stream",
     "text": [
      "CO2 ------------------------------------------------------------------------------------------\n",
      "First Quartertile: 429.0 . Third Quartile:  565.1 .Interquartile Range:  136.10000000000002\n",
      "CO ------------------------------------------------------------------------------------------\n",
      "First Quartertile: 0.0 . Third Quartile:  1.7 .Interquartile Range:  1.7\n",
      "TVOC ------------------------------------------------------------------------------------------\n",
      "First Quartertile: 31.0 . Third Quartile:  248.0 .Interquartile Range:  217.0\n",
      "PM10 ------------------------------------------------------------------------------------------\n",
      "First Quartertile: 0.0 . Third Quartile:  0.0 .Interquartile Range:  0.0\n",
      "PM25 ------------------------------------------------------------------------------------------\n",
      "First Quartertile: 0.0 . Third Quartile:  0.2 .Interquartile Range:  0.2\n",
      "PM01 ------------------------------------------------------------------------------------------\n",
      "First Quartertile: 0.0 . Third Quartile:  0.1 .Interquartile Range:  0.1\n",
      "HCHO ------------------------------------------------------------------------------------------\n",
      "First Quartertile: 3.7 . Third Quartile:  13.3 .Interquartile Range:  9.600000000000001\n",
      "NO2 ------------------------------------------------------------------------------------------\n",
      "First Quartertile: 0.0 . Third Quartile:  31.6 .Interquartile Range:  31.6\n",
      "O3 ------------------------------------------------------------------------------------------\n",
      "First Quartertile: 18.6 . Third Quartile:  20.0 .Interquartile Range:  1.3999999999999986\n",
      "NH3 ------------------------------------------------------------------------------------------\n",
      "First Quartertile: 0.0 . Third Quartile:  22.9 .Interquartile Range:  22.9\n",
      "Temp ------------------------------------------------------------------------------------------\n",
      "First Quartertile: 20.4 . Third Quartile:  23.6 .Interquartile Range:  3.200000000000003\n",
      "RH ------------------------------------------------------------------------------------------\n",
      "First Quartertile: 27.9 . Third Quartile:  45.2 .Interquartile Range:  17.300000000000004\n",
      "<class 'pandas.core.frame.DataFrame'>\n",
      "Index: 957826 entries, 0 to 1048574\n",
      "Data columns (total 10 columns):\n",
      " #   Column         Non-Null Count   Dtype         \n",
      "---  ------         --------------   -----         \n",
      " 0   device_id      957826 non-null  int64         \n",
      " 1   date           957826 non-null  datetime64[ns]\n",
      " 2   value_type_id  957826 non-null  int64         \n",
      " 3   value          957826 non-null  float64       \n",
      " 4   work_hours     957826 non-null  bool          \n",
      " 5   Fall           957826 non-null  bool          \n",
      " 6   Spring         957826 non-null  bool          \n",
      " 7   Summer         957826 non-null  bool          \n",
      " 8   Winter         957826 non-null  bool          \n",
      " 9   day type       957826 non-null  int64         \n",
      "dtypes: bool(5), datetime64[ns](1), float64(1), int64(3)\n",
      "memory usage: 48.4 MB\n"
     ]
    }
   ],
   "source": [
    "processed_df = readings_df \n",
    "for k, v in readings_df.groupby('value_type_id'):\n",
    "    print(reading_types_df.at[k - 1, 'reading_type_name'],'-'*90)\n",
    "    outliers = detect_outliers(v, 1, ['value'])\n",
    "    processed_df = processed_df.drop(outliers, axis = 0) \n",
    "\n",
    "processed_df.info()"
   ]
  },
  {
   "cell_type": "markdown",
   "metadata": {},
   "source": [
    "#### IMPORTANT: uncomment the line highlighted if you do not have preprocessed.csv, use this in the model.ipynb (so we stop working on same file)"
   ]
  },
  {
   "cell_type": "code",
   "execution_count": 90,
   "metadata": {},
   "outputs": [],
   "source": [
    "#merging devices with sampleled readings\n",
    "\n",
    "final_df = pd.merge(processed_df, devices_df, on='device_id', how='inner')\n",
    "\n",
    "final_df.to_csv('preprocessed.csv') # <-- COMMENT THIS OUT IF YOU DON'T HAVE preprocessd.csv yet "
   ]
  },
  {
   "cell_type": "code",
   "execution_count": 91,
   "metadata": {},
   "outputs": [],
   "source": [
    "# seperate into RH + temp and others\n",
    "df_11_12 = readings_df[readings_df['value_type_id'].isin([11, 12])]\n",
    "df_other = readings_df[~readings_df['value_type_id'].isin([11, 12])]"
   ]
  },
  {
   "cell_type": "code",
   "execution_count": 92,
   "metadata": {},
   "outputs": [],
   "source": [
    "#nomalize categories\n",
    "# df_11_12 = pd.get_dummies(df_11_12, columns=['season'])\n",
    "# df_other = pd.get_dummies(df_other, columns=['season'])"
   ]
  },
  {
   "cell_type": "code",
   "execution_count": 93,
   "metadata": {},
   "outputs": [
    {
     "name": "stdout",
     "output_type": "stream",
     "text": [
      "<class 'pandas.core.frame.DataFrame'>\n",
      "Index: 409 entries, 6 to 5044\n",
      "Data columns (total 10 columns):\n",
      " #   Column         Non-Null Count  Dtype         \n",
      "---  ------         --------------  -----         \n",
      " 0   device_id      409 non-null    int64         \n",
      " 1   date           409 non-null    datetime64[ns]\n",
      " 2   value_type_id  409 non-null    int64         \n",
      " 3   value          409 non-null    float64       \n",
      " 4   work_hours     409 non-null    bool          \n",
      " 5   Fall           409 non-null    bool          \n",
      " 6   Spring         409 non-null    bool          \n",
      " 7   Summer         409 non-null    bool          \n",
      " 8   Winter         409 non-null    bool          \n",
      " 9   day type       409 non-null    int64         \n",
      "dtypes: bool(5), datetime64[ns](1), float64(1), int64(3)\n",
      "memory usage: 21.2 KB\n"
     ]
    },
    {
     "data": {
      "text/plain": [
       "<function matplotlib.pyplot.show(close=None, block=None)>"
      ]
     },
     "execution_count": 93,
     "metadata": {},
     "output_type": "execute_result"
    },
    {
     "data": {
      "image/png": "[encoded data removed]",
      "text/plain": [
       "<Figure size 640x480 with 1 Axes>"
      ]
     },
     "metadata": {},
     "output_type": "display_data"
    }
   ],
   "source": [
    "#to filter value_type_id and device_id\n",
    "filtered_df = readings_df[(readings_df['value_type_id'] == 11) & (readings_df['device_id'] == 1)]\n",
    "\n",
    "filtered_df.info()\n",
    "\n",
    "start_date = '2023-8-01'\n",
    "end_date = '2023-8-31'\n",
    "filtered_df = filtered_df[(filtered_df['date'] >= start_date) & (filtered_df['date'] <= end_date)]\n",
    "\n",
    "# scatter for >1 day\n",
    "plt.scatter(filtered_df['date'], filtered_df['value'], marker='.')\n",
    "plt.gca().xaxis.set_major_formatter(mdates.DateFormatter('%d'))\n",
    "\n",
    "\n",
    "# scatter for <1 day\n",
    "# plt.scatter(filtered_df['date'].dt.hour + filtered_df['date'].dt.minute / 60, filtered_df['value'], marker='.')\n",
    "\n",
    "\n",
    "plt.show\n",
    "\n"
   ]
  },
  {
   "cell_type": "code",
   "execution_count": 94,
   "metadata": {},
   "outputs": [
    {
     "name": "stdout",
     "output_type": "stream",
     "text": [
      "<class 'pandas.core.frame.DataFrame'>\n",
      "Index: 39 entries, 52 to 4921\n",
      "Data columns (total 10 columns):\n",
      " #   Column         Non-Null Count  Dtype         \n",
      "---  ------         --------------  -----         \n",
      " 0   device_id      39 non-null     int64         \n",
      " 1   date           39 non-null     datetime64[ns]\n",
      " 2   value_type_id  39 non-null     int64         \n",
      " 3   value          39 non-null     float64       \n",
      " 4   work_hours     39 non-null     bool          \n",
      " 5   Fall           39 non-null     bool          \n",
      " 6   Spring         39 non-null     bool          \n",
      " 7   Summer         39 non-null     bool          \n",
      " 8   Winter         39 non-null     bool          \n",
      " 9   day type       39 non-null     int64         \n",
      "dtypes: bool(5), datetime64[ns](1), float64(1), int64(3)\n",
      "memory usage: 2.0 KB\n",
      "Test Statistic: -1.2588939802727803\n",
      "P-Value: 0.6477624054443933\n"
     ]
    }
   ],
   "source": [
    "# Augmented Dickey-Fuller test\n",
    "# determines if a series is stationary\n",
    "filtered_df.info()\n",
    "\n",
    "test_series_data = filtered_df[['value']]\n",
    "test_series_data.index = pd.to_datetime(filtered_df['date'])\n",
    "\n",
    "results = adfuller(test_series_data)\n",
    "\n",
    "print('Test Statistic:', results[0])\n",
    "print('P-Value:', results[1])\n"
   ]
  }
 ],
 "metadata": {
  "kernelspec": {
   "display_name": "Python 3",
   "language": "python",
   "name": "python3"
  },
  "language_info": {
   "codemirror_mode": {
    "name": "ipython",
    "version": 3
   },
   "file_extension": ".py",
   "mimetype": "text/x-python",
   "name": "python",
   "nbconvert_exporter": "python",
   "pygments_lexer": "ipython3",
   "version": "3.11.4"
  }
 },
 "nbformat": 4,
 "nbformat_minor": 2
}
