{
 "cells": [
  {
   "cell_type": "code",
   "execution_count": 1,
   "metadata": {},
   "outputs": [],
   "source": [
    "import numpy as np \n",
    "import pandas as pd \n",
    "\n",
    "from sklearn.model_selection import train_test_split\n",
    "from sklearn.model_selection import TimeSeriesSplit #for data preprocessing and crass validating \n",
    "from sklearn.model_selection import cross_validate\n",
    "from sklearn.model_selection import KFold\n",
    "from sklearn.model_selection import cross_val_score\n",
    "from sklearn.impute import SimpleImputer\n",
    "from sklearn.metrics import mean_squared_error, r2_score\n",
    "\n",
    "from sklearn.linear_model import LinearRegression #Linear Regression\n",
    "from sklearn.ensemble import RandomForestRegressor #Random Forest \n",
    "\n",
    "from statistics import mean\n",
    "from hyperopt import Trials, hp, fmin, tpe, STATUS_OK, space_eval #for hyperparameter tuning and minimizing\n",
    "\n",
    "from cyclic_boosting.pipelines import pipeline_CBClassifier\n",
    "from sklearn.ensemble import HistGradientBoostingRegressor\n",
    "\n",
    "from datetime import date\n",
    "from datetime import datetime"
   ]
  },
  {
   "cell_type": "code",
   "execution_count": 2,
   "metadata": {},
   "outputs": [
    {
     "name": "stdout",
     "output_type": "stream",
     "text": [
      "<class 'pandas.core.frame.DataFrame'>\n",
      "RangeIndex: 2289876 entries, 0 to 2289875\n",
      "Data columns (total 38 columns):\n",
      " #   Column         Dtype         \n",
      "---  ------         -----         \n",
      " 0   Unnamed: 0     int64         \n",
      " 1   value_type_id  float64       \n",
      " 2   value          float64       \n",
      " 3   date           datetime64[ns]\n",
      " 4   Fall           bool          \n",
      " 5   Spring         bool          \n",
      " 6   Summer         bool          \n",
      " 7   Winter         bool          \n",
      " 8   trimester_day  int64         \n",
      " 9   building_1.0   bool          \n",
      " 10  building_2.0   bool          \n",
      " 11  building_3.0   bool          \n",
      " 12  building_6.0   bool          \n",
      " 13  building_8.0   bool          \n",
      " 14  building_10.0  bool          \n",
      " 15  building_11.0  bool          \n",
      " 16  building_12.0  bool          \n",
      " 17  building_13.0  bool          \n",
      " 18  building_16.0  bool          \n",
      " 19  building_17.0  bool          \n",
      " 20  building_18.0  bool          \n",
      " 21  building_19.0  bool          \n",
      " 22  building_20.0  bool          \n",
      " 23  building_21.0  bool          \n",
      " 24  building_23.0  bool          \n",
      " 25  building_24.0  bool          \n",
      " 26  building_25.0  bool          \n",
      " 27  building_26.0  bool          \n",
      " 28  building_29.0  bool          \n",
      " 29  building_31.0  bool          \n",
      " 30  building_32.0  bool          \n",
      " 31  building_33.0  bool          \n",
      " 32  building_34.0  bool          \n",
      " 33  building_36.0  bool          \n",
      " 34  building_37.0  bool          \n",
      " 35  building_38.0  bool          \n",
      " 36  building_40.0  bool          \n",
      " 37  building_41.0  bool          \n",
      "dtypes: bool(33), datetime64[ns](1), float64(2), int64(2)\n",
      "memory usage: 159.4 MB\n"
     ]
    }
   ],
   "source": [
    "samples = pd.read_csv('preprocessed.csv')\n",
    "reading_types = pd.read_csv('reading_types.csv')\n",
    "\n",
    "samples['date'] = pd.to_datetime(samples['date'])\n",
    "\n",
    "samples.info()\n",
    "\n",
    "df_lst = [(k, v) for k, v in samples.groupby('value_type_id')]"
   ]
  },
  {
   "cell_type": "code",
   "execution_count": 4,
   "metadata": {},
   "outputs": [
    {
     "name": "stdout",
     "output_type": "stream",
     "text": [
      "CO2 --------------------------------------------------------------------------------\n",
      "0.709853385498222\n",
      "CO --------------------------------------------------------------------------------\n",
      "0.7970399682707856\n",
      "TVOC --------------------------------------------------------------------------------\n",
      "0.1478562736501171\n",
      "PM10 --------------------------------------------------------------------------------\n",
      "1.0\n",
      "PM25 --------------------------------------------------------------------------------\n",
      "0.8539755499880735\n",
      "PM01 --------------------------------------------------------------------------------\n",
      "0.9202026109527661\n",
      "HCHO --------------------------------------------------------------------------------\n",
      "0.7758647378293644\n",
      "NO2 --------------------------------------------------------------------------------\n",
      "0.7769255732257745\n",
      "O3 --------------------------------------------------------------------------------\n",
      "0.9093428839511606\n",
      "NH3 --------------------------------------------------------------------------------\n",
      "0.9235760432541643\n",
      "Temp --------------------------------------------------------------------------------\n",
      "0.48175599779600875\n",
      "RH --------------------------------------------------------------------------------\n",
      "0.7675982404526014\n"
     ]
    }
   ],
   "source": [
    "for num, df in df_lst:\n",
    "    df = df.drop(columns=['value_type_id', 'Unnamed: 0'], axis = 1)\n",
    "    df = df.sort_values(by='date') \n",
    "    df = df.drop(columns = ['date'], axis = 1)\n",
    "    print(reading_types.at[num - 1, 'reading_type_name'], '-'*80)\n",
    "    x_train, x_test, y_train, y_test = train_test_split(df.drop('value', axis = 1), df['value'])\n",
    "    # tst_cv = TimeSeriesSplit(n_splits=5, gap = 48)\n",
    "    \n",
    "    regression = LinearRegression().fit(x_train, y_train)\n",
    "    pred = regression.predict(x_test)\n",
    "    print(r2_score(y_test, pred))"
   ]
  }
 ],
 "metadata": {
  "kernelspec": {
   "display_name": "Python 3",
   "language": "python",
   "name": "python3"
  },
  "language_info": {
   "codemirror_mode": {
    "name": "ipython",
    "version": 3
   },
   "file_extension": ".py",
   "mimetype": "text/x-python",
   "name": "python",
   "nbconvert_exporter": "python",
   "pygments_lexer": "ipython3",
   "version": "3.11.4"
  }
 },
 "nbformat": 4,
 "nbformat_minor": 2
}
