{
 "cells": [
  {
   "cell_type": "code",
   "execution_count": 7,
   "metadata": {},
   "outputs": [],
   "source": [
    "import numpy as np \n",
    "import pandas as pd \n",
    "\n",
    "from sklearn.model_selection import train_test_split\n",
    "from sklearn.model_selection import TimeSeriesSplit #for data preprocessing and crass validating \n",
    "from sklearn.model_selection import cross_validate\n",
    "from sklearn.model_selection import KFold\n",
    "from sklearn.model_selection import cross_val_score\n",
    "from sklearn.impute import SimpleImputer\n",
    "from sklearn.metrics import mean_squared_error, r2_score\n",
    "\n",
    "from sklearn.linear_model import LinearRegression #Linear Regression\n",
    "from sklearn.ensemble import RandomForestRegressor #Random Forest \n",
    "\n",
    "from statistics import mean\n",
    "from hyperopt import Trials, hp, fmin, tpe, STATUS_OK, space_eval #for hyperparameter tuning and minimizing\n",
    "\n",
    "from cyclic_boosting.pipelines import pipeline_CBClassifier\n",
    "from sklearn.ensemble import HistGradientBoostingRegressor\n",
    "\n",
    "from datetime import date\n",
    "from datetime import datetime"
   ]
  },
  {
   "cell_type": "code",
   "execution_count": 8,
   "metadata": {},
   "outputs": [
    {
     "name": "stdout",
     "output_type": "stream",
     "text": [
      "<class 'pandas.core.frame.DataFrame'>\n",
      "RangeIndex: 124278 entries, 0 to 124277\n",
      "Data columns (total 16 columns):\n",
      " #   Column        Non-Null Count   Dtype         \n",
      "---  ------        --------------   -----         \n",
      " 0   Unnamed: 0    124278 non-null  int64         \n",
      " 1   date          124278 non-null  datetime64[ns]\n",
      " 2   building_id   124278 non-null  int64         \n",
      " 3   1             124278 non-null  float64       \n",
      " 4   2             124278 non-null  float64       \n",
      " 5   3             124278 non-null  float64       \n",
      " 6   4             124278 non-null  float64       \n",
      " 7   5             124278 non-null  float64       \n",
      " 8   6             124278 non-null  float64       \n",
      " 9   7             124278 non-null  float64       \n",
      " 10  8             124278 non-null  float64       \n",
      " 11  9             124278 non-null  float64       \n",
      " 12  10            124278 non-null  float64       \n",
      " 13  11            124278 non-null  float64       \n",
      " 14  12            124278 non-null  float64       \n",
      " 15  working_hour  124278 non-null  int64         \n",
      "dtypes: datetime64[ns](1), float64(12), int64(3)\n",
      "memory usage: 15.2 MB\n"
     ]
    }
   ],
   "source": [
    "samples = pd.read_csv('preprocessed.csv')\n",
    "reading_types = pd.read_csv('reading_types.csv')\n",
    "\n",
    "samples['date'] = pd.to_datetime(samples['date'])\n",
    "samples['date'] = samples['date'].map(datetime.toordinal)\n",
    "\n",
    "samples.info()\n",
    "\n",
    "df_lst = [(k, v) for k, v in samples.groupby('building_id')]"
   ]
  },
  {
   "cell_type": "code",
   "execution_count": 16,
   "metadata": {},
   "outputs": [
    {
     "name": "stdout",
     "output_type": "stream",
     "text": [
      "1\n",
      "0.2501356214276988\n",
      "2\n",
      "0.20776339329687643\n",
      "3\n",
      "0.24798537528605746\n",
      "6\n",
      "0.08880512212717119\n",
      "8\n",
      "0.41522229257772136\n",
      "10\n",
      "0.24838772373630227\n",
      "11\n",
      "0.24446872898459127\n",
      "12\n",
      "0.253512439514931\n",
      "13\n",
      "0.4146412899362056\n",
      "16\n",
      "-5.6264839507960604e+26\n",
      "17\n",
      "0.416185976802407\n",
      "18\n",
      "0.4971246642729847\n",
      "19\n",
      "0.2518541508110888\n",
      "20\n",
      "0.3340570648247312\n",
      "21\n",
      "0.2971665196951596\n",
      "23\n",
      "0.16687330532200495\n",
      "24\n",
      "0.33344969118689405\n",
      "25\n",
      "0.33471732001927873\n",
      "26\n",
      "-1.5832870679071445e+24\n",
      "29\n",
      "-9.514572938741819e+23\n",
      "31\n",
      "0.24969446040231258\n",
      "32\n",
      "-1.1063017819703797e+25\n",
      "33\n",
      "0.08507233331081449\n",
      "34\n",
      "0.3359360600414056\n",
      "36\n",
      "0.16646239442512534\n",
      "37\n",
      "0.2501845924695726\n",
      "38\n",
      "0.16567521892304007\n",
      "40\n",
      "-1.1462255269444816e+24\n",
      "41\n",
      "0.08336057102257587\n"
     ]
    }
   ],
   "source": [
    "for num, df in df_lst:\n",
    "    df = df.drop(columns=['Unnamed: 0'], axis = 1)\n",
    "    df = df.sort_values(by='date') \n",
    "    df = df.drop(columns = ['date'], axis = 1)\n",
    "    print(num)\n",
    "    x_train, x_test, y_train, y_test = train_test_split(df.drop(['1', '2', '3', '4', '5', '6', '7', '8', '9', '10', '11', '12'], axis = 1), df[['1', '2', '3', '4', '5', '6', '7', '8', '9', '10', '11', '12']])\n",
    "    # tst_cv = TimeSeriesSplit(n_splits=5, gap = 48)\n",
    "    \n",
    "    regression = LinearRegression().fit(x_train, y_train)\n",
    "    pred = regression.predict(x_test)\n",
    "    print(r2_score(y_test, pred))"
   ]
  }
 ],
 "metadata": {
  "kernelspec": {
   "display_name": "Python 3",
   "language": "python",
   "name": "python3"
  },
  "language_info": {
   "codemirror_mode": {
    "name": "ipython",
    "version": 3
   },
   "file_extension": ".py",
   "mimetype": "text/x-python",
   "name": "python",
   "nbconvert_exporter": "python",
   "pygments_lexer": "ipython3",
   "version": "3.11.4"
  }
 },
 "nbformat": 4,
 "nbformat_minor": 2
}
