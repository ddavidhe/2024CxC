{
 "cells": [
  {
   "cell_type": "code",
   "execution_count": 7,
   "metadata": {},
   "outputs": [],
   "source": [
    "import pandas as pd\n",
    "from os import listdir\n",
    "from os.path import join"
   ]
  },
  {
   "cell_type": "code",
   "execution_count": 10,
   "metadata": {},
   "outputs": [
    {
     "name": "stdout",
     "output_type": "stream",
     "text": [
      "c:\\Users\\Thomas\\Documents\\GitHub\\2024CxC\\QuadReal\\predictions\n",
      "['c:\\\\Users\\\\Thomas\\\\Documents\\\\GitHub\\\\2024CxC\\\\QuadReal\\\\predictions\\\\hi.py']\n"
     ]
    }
   ],
   "source": [
    "final_df = pd.DataFrame()  \n",
    "\n",
    "folderPath = os.getcwd()\n",
    "folderPath = folderPath + r'\\predictions'\n",
    "print(folderPath)\n",
    "\n",
    "fileList = [join(folderPath, f) for f in listdir(folderPath)]\n",
    "print(fileList)"
   ]
  },
  {
   "cell_type": "code",
   "execution_count": null,
   "metadata": {},
   "outputs": [],
   "source": [
    "for file in fileList:\n",
    "    final_df = pd.concat(final_df, pd.read_csv(file)) "
   ]
  },
  {
   "cell_type": "code",
   "execution_count": null,
   "metadata": {},
   "outputs": [],
   "source": [
    "final_df = final_df[['device_id', 'date', 'value_type_id', 'value']]\n",
    "final_df.to_csv('submission.csv')"
   ]
  }
 ],
 "metadata": {
  "kernelspec": {
   "display_name": "Python 3",
   "language": "python",
   "name": "python3"
  },
  "language_info": {
   "codemirror_mode": {
    "name": "ipython",
    "version": 3
   },
   "file_extension": ".py",
   "mimetype": "text/x-python",
   "name": "python",
   "nbconvert_exporter": "python",
   "pygments_lexer": "ipython3",
   "version": "3.11.4"
  }
 },
 "nbformat": 4,
 "nbformat_minor": 2
}
