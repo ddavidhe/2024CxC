{
 "cells": [
  {
   "cell_type": "code",
   "execution_count": 27,
   "metadata": {},
   "outputs": [],
   "source": [
    "import pandas as pd\n",
    "import os \n",
    "from os import listdir\n",
    "from os.path import join"
   ]
  },
  {
   "cell_type": "code",
   "execution_count": 28,
   "metadata": {},
   "outputs": [
    {
     "name": "stdout",
     "output_type": "stream",
     "text": [
      "c:\\Users\\Thomas\\Documents\\GitHub\\2024CxC\\QuadReal\\predictions\n",
      "['c:\\\\Users\\\\Thomas\\\\Documents\\\\GitHub\\\\2024CxC\\\\QuadReal\\\\predictions\\\\46.csv', 'c:\\\\Users\\\\Thomas\\\\Documents\\\\GitHub\\\\2024CxC\\\\QuadReal\\\\predictions\\\\48.csv', 'c:\\\\Users\\\\Thomas\\\\Documents\\\\GitHub\\\\2024CxC\\\\QuadReal\\\\predictions\\\\50.csv', 'c:\\\\Users\\\\Thomas\\\\Documents\\\\GitHub\\\\2024CxC\\\\QuadReal\\\\predictions\\\\51_5.csv', 'c:\\\\Users\\\\Thomas\\\\Documents\\\\GitHub\\\\2024CxC\\\\QuadReal\\\\predictions\\\\53.csv', 'c:\\\\Users\\\\Thomas\\\\Documents\\\\GitHub\\\\2024CxC\\\\QuadReal\\\\predictions\\\\66.csv', 'c:\\\\Users\\\\Thomas\\\\Documents\\\\GitHub\\\\2024CxC\\\\QuadReal\\\\predictions\\\\67.csv', 'c:\\\\Users\\\\Thomas\\\\Documents\\\\GitHub\\\\2024CxC\\\\QuadReal\\\\predictions\\\\68.csv', 'c:\\\\Users\\\\Thomas\\\\Documents\\\\GitHub\\\\2024CxC\\\\QuadReal\\\\predictions\\\\69.csv', 'c:\\\\Users\\\\Thomas\\\\Documents\\\\GitHub\\\\2024CxC\\\\QuadReal\\\\predictions\\\\70.csv', 'c:\\\\Users\\\\Thomas\\\\Documents\\\\GitHub\\\\2024CxC\\\\QuadReal\\\\predictions\\\\72.csv', 'c:\\\\Users\\\\Thomas\\\\Documents\\\\GitHub\\\\2024CxC\\\\QuadReal\\\\predictions\\\\74.csv']\n"
     ]
    }
   ],
   "source": [
    "final_df = pd.DataFrame()  \n",
    "\n",
    "folderPath = os.getcwd()\n",
    "folderPath = folderPath + r'\\predictions'\n",
    "print(folderPath)\n",
    "\n",
    "fileList = [join(folderPath, f) for f in listdir(folderPath)]\n",
    "print(fileList)"
   ]
  },
  {
   "cell_type": "code",
   "execution_count": 29,
   "metadata": {},
   "outputs": [],
   "source": [
    "for file in fileList:\n",
    "    final_df = pd.concat([final_df, pd.read_csv(file, header = None)]) "
   ]
  },
  {
   "cell_type": "code",
   "execution_count": 30,
   "metadata": {},
   "outputs": [
    {
     "name": "stdout",
     "output_type": "stream",
     "text": [
      "   1                    2   3   39\n",
      "0   1  2023-05-12 14:02:23   1   0\n",
      "1   1  2023-05-12 14:02:23   2   0\n",
      "2   1  2023-05-12 14:02:23   3   0\n",
      "3   1  2023-05-12 14:02:23   4   0\n",
      "4   1  2023-05-12 14:02:23   5   0\n",
      "5   1  2023-05-12 14:02:23   6   0\n",
      "6   1  2023-05-12 14:02:23   7   0\n",
      "7   1  2023-05-12 14:02:23   8   0\n",
      "8   1  2023-05-12 14:02:23   9   0\n",
      "9   1  2023-05-12 14:02:23  10   0\n"
     ]
    }
   ],
   "source": [
    "test = pd.read_csv('test.csv', header = None)\n",
    "test[39] = 0\n",
    "test = test.rename(columns = {0: 1, 1: 2, 2: 3, 39: 39})\n",
    "\n",
    "end = int(4.6e6)\n",
    "test = test.iloc[:end]\n",
    "print(test.head(10))\n"
   ]
  },
  {
   "cell_type": "code",
   "execution_count": 31,
   "metadata": {},
   "outputs": [
    {
     "name": "stdout",
     "output_type": "stream",
     "text": [
      "<class 'pandas.core.frame.DataFrame'>\n",
      "Index: 4800000 entries, 0 to 199999\n",
      "Data columns (total 4 columns):\n",
      " #   Column         Dtype  \n",
      "---  ------         -----  \n",
      " 0   device_id      int64  \n",
      " 1   date           object \n",
      " 2   value_type_id  int64  \n",
      " 3   value          float64\n",
      "dtypes: float64(1), int64(2), object(1)\n",
      "memory usage: 183.1+ MB\n"
     ]
    },
    {
     "data": {
      "text/html": [
       "<div>\n",
       "<style scoped>\n",
       "    .dataframe tbody tr th:only-of-type {\n",
       "        vertical-align: middle;\n",
       "    }\n",
       "\n",
       "    .dataframe tbody tr th {\n",
       "        vertical-align: top;\n",
       "    }\n",
       "\n",
       "    .dataframe thead th {\n",
       "        text-align: right;\n",
       "    }\n",
       "</style>\n",
       "<table border=\"1\" class=\"dataframe\">\n",
       "  <thead>\n",
       "    <tr style=\"text-align: right;\">\n",
       "      <th></th>\n",
       "      <th>device_id</th>\n",
       "      <th>date</th>\n",
       "      <th>value_type_id</th>\n",
       "      <th>value</th>\n",
       "    </tr>\n",
       "  </thead>\n",
       "  <tbody>\n",
       "    <tr>\n",
       "      <th>0</th>\n",
       "      <td>1</td>\n",
       "      <td>2023-05-12 14:02:23</td>\n",
       "      <td>1</td>\n",
       "      <td>0.0</td>\n",
       "    </tr>\n",
       "    <tr>\n",
       "      <th>1</th>\n",
       "      <td>1</td>\n",
       "      <td>2023-05-12 14:02:23</td>\n",
       "      <td>2</td>\n",
       "      <td>0.0</td>\n",
       "    </tr>\n",
       "    <tr>\n",
       "      <th>2</th>\n",
       "      <td>1</td>\n",
       "      <td>2023-05-12 14:02:23</td>\n",
       "      <td>3</td>\n",
       "      <td>0.0</td>\n",
       "    </tr>\n",
       "    <tr>\n",
       "      <th>3</th>\n",
       "      <td>1</td>\n",
       "      <td>2023-05-12 14:02:23</td>\n",
       "      <td>4</td>\n",
       "      <td>0.0</td>\n",
       "    </tr>\n",
       "    <tr>\n",
       "      <th>4</th>\n",
       "      <td>1</td>\n",
       "      <td>2023-05-12 14:02:23</td>\n",
       "      <td>5</td>\n",
       "      <td>0.0</td>\n",
       "    </tr>\n",
       "    <tr>\n",
       "      <th>5</th>\n",
       "      <td>1</td>\n",
       "      <td>2023-05-12 14:02:23</td>\n",
       "      <td>6</td>\n",
       "      <td>0.0</td>\n",
       "    </tr>\n",
       "    <tr>\n",
       "      <th>6</th>\n",
       "      <td>1</td>\n",
       "      <td>2023-05-12 14:02:23</td>\n",
       "      <td>7</td>\n",
       "      <td>0.0</td>\n",
       "    </tr>\n",
       "    <tr>\n",
       "      <th>7</th>\n",
       "      <td>1</td>\n",
       "      <td>2023-05-12 14:02:23</td>\n",
       "      <td>8</td>\n",
       "      <td>0.0</td>\n",
       "    </tr>\n",
       "    <tr>\n",
       "      <th>8</th>\n",
       "      <td>1</td>\n",
       "      <td>2023-05-12 14:02:23</td>\n",
       "      <td>9</td>\n",
       "      <td>0.0</td>\n",
       "    </tr>\n",
       "    <tr>\n",
       "      <th>9</th>\n",
       "      <td>1</td>\n",
       "      <td>2023-05-12 14:02:23</td>\n",
       "      <td>10</td>\n",
       "      <td>0.0</td>\n",
       "    </tr>\n",
       "  </tbody>\n",
       "</table>\n",
       "</div>"
      ],
      "text/plain": [
       "   device_id                 date  value_type_id  value\n",
       "0          1  2023-05-12 14:02:23              1    0.0\n",
       "1          1  2023-05-12 14:02:23              2    0.0\n",
       "2          1  2023-05-12 14:02:23              3    0.0\n",
       "3          1  2023-05-12 14:02:23              4    0.0\n",
       "4          1  2023-05-12 14:02:23              5    0.0\n",
       "5          1  2023-05-12 14:02:23              6    0.0\n",
       "6          1  2023-05-12 14:02:23              7    0.0\n",
       "7          1  2023-05-12 14:02:23              8    0.0\n",
       "8          1  2023-05-12 14:02:23              9    0.0\n",
       "9          1  2023-05-12 14:02:23             10    0.0"
      ]
     },
     "execution_count": 31,
     "metadata": {},
     "output_type": "execute_result"
    }
   ],
   "source": [
    "final_df = final_df[[1, 2, 3, 39]]\n",
    "final_df = pd.concat([test, final_df])\n",
    "final_df = final_df.rename(columns = {1: 'device_id', 2: 'date', 3: 'value_type_id', 39: 'value'})\n",
    "final_df.info()\n",
    "final_df.to_csv('submission.csv')"
   ]
  }
 ],
 "metadata": {
  "kernelspec": {
   "display_name": "Python 3",
   "language": "python",
   "name": "python3"
  },
  "language_info": {
   "codemirror_mode": {
    "name": "ipython",
    "version": 3
   },
   "file_extension": ".py",
   "mimetype": "text/x-python",
   "name": "python",
   "nbconvert_exporter": "python",
   "pygments_lexer": "ipython3",
   "version": "3.11.4"
  }
 },
 "nbformat": 4,
 "nbformat_minor": 2
}
